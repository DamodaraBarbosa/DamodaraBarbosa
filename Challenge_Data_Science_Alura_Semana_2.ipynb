{
  "nbformat": 4,
  "nbformat_minor": 0,
  "metadata": {
    "colab": {
      "provenance": [],
      "mount_file_id": "1QqSXf6vA_68WQ6gBFsZ9ANDkHEZ4X3t7",
      "authorship_tag": "ABX9TyMtROrGr8pU5y7kPFDbn4vb",
      "include_colab_link": true
    },
    "kernelspec": {
      "name": "python3",
      "display_name": "Python 3"
    },
    "language_info": {
      "name": "python"
    }
  },
  "cells": [
    {
      "cell_type": "markdown",
      "metadata": {
        "id": "view-in-github",
        "colab_type": "text"
      },
      "source": [
        "<a href=\"https://colab.research.google.com/github/DamodaraBarbosa/DamodaraBarbosa/blob/main/Challenge_Data_Science_Alura_Semana_2.ipynb\" target=\"_parent\"><img src=\"https://colab.research.google.com/assets/colab-badge.svg\" alt=\"Open In Colab\"/></a>"
      ]
    },
    {
      "cell_type": "markdown",
      "source": [
        "Instalando dependências do Spark"
      ],
      "metadata": {
        "id": "rCMCb42AgP_7"
      }
    },
    {
      "cell_type": "code",
      "execution_count": 1,
      "metadata": {
        "id": "UMsa41Wwecx3"
      },
      "outputs": [],
      "source": [
        "!apt-get update -qq\n",
        "!apt-get install openjdk-8-jdk-headless -qq > /dev/null\n",
        "!wget -q https://archive.apache.org/dist/spark/spark-3.1.2/spark-3.1.2-bin-hadoop2.7.tgz\n",
        "!tar xf spark-3.1.2-bin-hadoop2.7.tgz\n",
        "!pip install -q findspark"
      ]
    },
    {
      "cell_type": "markdown",
      "source": [
        "Importando OS"
      ],
      "metadata": {
        "id": "T-x9Cu_FgT68"
      }
    },
    {
      "cell_type": "code",
      "source": [
        "import os\n",
        "os.environ[\"JAVA_HOME\"] = \"/usr/lib/jvm/java-8-openjdk-amd64\"\n",
        "os.environ[\"SPARK_HOME\"] = \"/content/spark-3.1.2-bin-hadoop2.7\""
      ],
      "metadata": {
        "id": "kutuZ3ZHekGq"
      },
      "execution_count": 2,
      "outputs": []
    },
    {
      "cell_type": "markdown",
      "source": [
        "Importando o Spark Session"
      ],
      "metadata": {
        "id": "fy8wy-M2gac9"
      }
    },
    {
      "cell_type": "code",
      "source": [
        "import findspark\n",
        "findspark.init()"
      ],
      "metadata": {
        "id": "QJjgFUaYel0B"
      },
      "execution_count": 3,
      "outputs": []
    },
    {
      "cell_type": "code",
      "source": [
        "from pyspark.sql import SparkSession\n",
        "\n",
        "spark = SparkSession.builder \\\n",
        "    .master('local[*]') \\\n",
        "    .appName(\"Iniciando com Spark\") \\\n",
        "    .getOrCreate()"
      ],
      "metadata": {
        "id": "dQ9MtsfOenPX"
      },
      "execution_count": 4,
      "outputs": []
    },
    {
      "cell_type": "code",
      "source": [
        "spark"
      ],
      "metadata": {
        "colab": {
          "base_uri": "https://localhost:8080/",
          "height": 219
        },
        "id": "5B5pIzRrerB4",
        "outputId": "57a057be-8242-4aea-e944-68319bdb32e9"
      },
      "execution_count": 5,
      "outputs": [
        {
          "output_type": "execute_result",
          "data": {
            "text/plain": [
              "<pyspark.sql.session.SparkSession at 0x7feade18c5e0>"
            ],
            "text/html": [
              "\n",
              "            <div>\n",
              "                <p><b>SparkSession - in-memory</b></p>\n",
              "                \n",
              "        <div>\n",
              "            <p><b>SparkContext</b></p>\n",
              "\n",
              "            <p><a href=\"http://e31d59dcad9a:4040\">Spark UI</a></p>\n",
              "\n",
              "            <dl>\n",
              "              <dt>Version</dt>\n",
              "                <dd><code>v3.1.2</code></dd>\n",
              "              <dt>Master</dt>\n",
              "                <dd><code>local[*]</code></dd>\n",
              "              <dt>AppName</dt>\n",
              "                <dd><code>Iniciando com Spark</code></dd>\n",
              "            </dl>\n",
              "        </div>\n",
              "        \n",
              "            </div>\n",
              "        "
            ]
          },
          "metadata": {},
          "execution_count": 5
        }
      ]
    },
    {
      "cell_type": "markdown",
      "source": [
        "# Carregando dados no dataframe"
      ],
      "metadata": {
        "id": "AgiMmfIbg1zy"
      }
    },
    {
      "cell_type": "code",
      "source": [
        "data = spark.read.parquet('/content/drive/MyDrive/Alura/Challenge Data Science/part-00000-00341ba7-0a7c-4fef-a81e-1066725a64b1-c000.snappy.parquet')"
      ],
      "metadata": {
        "id": "Kee9IS-dgcsp"
      },
      "execution_count": 6,
      "outputs": []
    },
    {
      "cell_type": "code",
      "source": [
        "data.show(10)"
      ],
      "metadata": {
        "colab": {
          "base_uri": "https://localhost:8080/"
        },
        "id": "PVD_zKWJhIsK",
        "outputId": "e50c4046-8858-4f02-b751-54012627aba7"
      },
      "execution_count": 7,
      "outputs": [
        {
          "output_type": "stream",
          "name": "stdout",
          "text": [
            "+--------------------+-----+----------+---------+---------+--------------------+-------+------+------------+------------+-----------+----+--------------------+------------+----------+----+-----+------+\n",
            "|                  id|andar|area_total|area_util|banheiros|     caracteristicas|quartos|suites|tipo_anuncio|tipo_unidade|   tipo_uso|vaga|              bairro|        zona|condominio|iptu| tipo| valor|\n",
            "+--------------------+-----+----------+---------+---------+--------------------+-------+------+------------+------------+-----------+----+--------------------+------------+----------+----+-----+------+\n",
            "|03a386b6-7ab8-4ef...|    0|        43|       43|        1|[Churrasqueira, A...|      2|  null|       Usado| Apartamento|Residencial|   1|            Realengo|  Zona Oeste|       285|null|Venda| 22999|\n",
            "|1fe78d41-b8e0-4d2...|    0|        44|       44|        1|                  []|      2|     0|       Usado| Apartamento|Residencial|   0|               Irajá|  Zona Norte|       170|   0|Venda|110000|\n",
            "|1fa1c1e5-e98c-433...|    4|      null|       55|        1|                  []|      2|     0|       Usado| Apartamento|Residencial|   1|              Cosmos|  Zona Oeste|      null|null|Venda|115000|\n",
            "|a6ab01ae-3d40-40e...|    2|      null|       55|        1|                  []|      2|     0|       Usado| Apartamento|Residencial|   0|        Tomás Coelho|  Zona Norte|      null|null|Venda|115000|\n",
            "|1d8ff7a2-16bd-4e3...|    0|      null|       50|        1|                  []|      1|  null|       Usado| Apartamento|Residencial|   0|              Centro|Zona Central|      1300|2679|Venda|125000|\n",
            "|40a2cbde-946b-42d...|    2|        47|       47|        1|[Condomínio fecha...|      2|     0|       Usado| Apartamento|Residencial|   1|        Campo Grande|  Zona Oeste|       380|null|Venda|138000|\n",
            "|be269ddf-a4a3-4a7...|    0|     17089|       45|        1|[Churrasqueira, C...|      2|     0|       Usado| Apartamento|Residencial|   1|        Campo Grande|  Zona Oeste|       356|   0|Venda|140000|\n",
            "|4b7e3d59-34fd-4ba...|    3|        48|       48|        1|[Churrasqueira, P...|      2|  null|       Usado| Apartamento|Residencial|   1|        Campo Grande|  Zona Oeste|         0|   0|Venda|150000|\n",
            "|a1a0c2ac-4fa8-4b0...|    9|      null|       55|        1|[Churrasqueira, E...|      2|  null|       Usado| Apartamento|Residencial|   1|Freguesia (Jacare...|  Zona Oeste|       780| 660|Venda|160000|\n",
            "|390d2b88-e06d-47e...|    0|        70|       70|        2|   [Salão de festas]|      2|     0|       Usado| Apartamento|Residencial|   1|          Praça Seca|  Zona Oeste|    420000|null|Venda|159000|\n",
            "+--------------------+-----+----------+---------+---------+--------------------+-------+------+------------+------------+-----------+----+--------------------+------------+----------+----+-----+------+\n",
            "only showing top 10 rows\n",
            "\n"
          ]
        }
      ]
    },
    {
      "cell_type": "markdown",
      "source": [
        "# Seleção de features"
      ],
      "metadata": {
        "id": "P-XmRw_shb3N"
      }
    },
    {
      "cell_type": "code",
      "source": [
        "# para selecionar as features utiliza-se o método distinct() a fim de obter os valores únicos para cada coluna do dataframe, num primeiro momento suspeita-se\n",
        "# das colunas tipo_anuncio, tipo_uso e tipo."
      ],
      "metadata": {
        "id": "wJfPGXQlhd4r"
      },
      "execution_count": 8,
      "outputs": []
    },
    {
      "cell_type": "markdown",
      "source": [
        "### Coluna tipo_anuncio"
      ],
      "metadata": {
        "id": "CJNsBWvBh7jd"
      }
    },
    {
      "cell_type": "code",
      "source": [
        "data.select('tipo_anuncio').distinct().show()"
      ],
      "metadata": {
        "colab": {
          "base_uri": "https://localhost:8080/"
        },
        "id": "Zg4FZshkhNoH",
        "outputId": "3cd97da9-b336-4a46-9e3e-25ebe88c4acb"
      },
      "execution_count": 9,
      "outputs": [
        {
          "output_type": "stream",
          "name": "stdout",
          "text": [
            "+------------+\n",
            "|tipo_anuncio|\n",
            "+------------+\n",
            "|       Usado|\n",
            "+------------+\n",
            "\n"
          ]
        }
      ]
    },
    {
      "cell_type": "code",
      "source": [
        "# todos os dados da coluna tipo_anuncio são iguais: \"Usado\""
      ],
      "metadata": {
        "id": "QMm1KVi2iktp"
      },
      "execution_count": 10,
      "outputs": []
    },
    {
      "cell_type": "markdown",
      "source": [
        "### Coluna tipo_uso"
      ],
      "metadata": {
        "id": "XfzwcgRsiusr"
      }
    },
    {
      "cell_type": "code",
      "source": [
        "data.select('tipo_uso').distinct().show()"
      ],
      "metadata": {
        "colab": {
          "base_uri": "https://localhost:8080/"
        },
        "id": "Ao1wOMyciteP",
        "outputId": "548d9172-1ad9-470d-beca-de9f98e40ffe"
      },
      "execution_count": 11,
      "outputs": [
        {
          "output_type": "stream",
          "name": "stdout",
          "text": [
            "+-----------+\n",
            "|   tipo_uso|\n",
            "+-----------+\n",
            "|Residencial|\n",
            "+-----------+\n",
            "\n"
          ]
        }
      ]
    },
    {
      "cell_type": "code",
      "source": [
        "# todos os dados da coluna tipo_uso são iguais: \"Residencial\""
      ],
      "metadata": {
        "id": "WNvA0plDiz0g"
      },
      "execution_count": 12,
      "outputs": []
    },
    {
      "cell_type": "markdown",
      "source": [
        "### Coluna tipo_unidade"
      ],
      "metadata": {
        "id": "J0C6rEKV7qMa"
      }
    },
    {
      "cell_type": "code",
      "source": [
        "data.select('tipo_unidade').distinct().show()"
      ],
      "metadata": {
        "colab": {
          "base_uri": "https://localhost:8080/"
        },
        "id": "jj3U2d-v7k1N",
        "outputId": "17c3d6bc-7598-4d04-eeb3-020b0b99bb51"
      },
      "execution_count": 13,
      "outputs": [
        {
          "output_type": "stream",
          "name": "stdout",
          "text": [
            "+------------+\n",
            "|tipo_unidade|\n",
            "+------------+\n",
            "| Apartamento|\n",
            "+------------+\n",
            "\n"
          ]
        }
      ]
    },
    {
      "cell_type": "code",
      "source": [
        "# todos os dados da coluna tipo_unidade são iguais: \"Apartamento\""
      ],
      "metadata": {
        "id": "iIj3Ngxy7uH9"
      },
      "execution_count": 14,
      "outputs": []
    },
    {
      "cell_type": "markdown",
      "source": [
        "### Coluna tipo"
      ],
      "metadata": {
        "id": "LrOSAhJUi6ZS"
      }
    },
    {
      "cell_type": "code",
      "source": [
        "data.select('tipo').distinct().show()"
      ],
      "metadata": {
        "colab": {
          "base_uri": "https://localhost:8080/"
        },
        "id": "ruDbFeGTi4Ny",
        "outputId": "8ff38766-a886-4940-f078-60a0285f7028"
      },
      "execution_count": 15,
      "outputs": [
        {
          "output_type": "stream",
          "name": "stdout",
          "text": [
            "+-----+\n",
            "| tipo|\n",
            "+-----+\n",
            "|Venda|\n",
            "+-----+\n",
            "\n"
          ]
        }
      ]
    },
    {
      "cell_type": "code",
      "source": [
        "# todos os dados da coluna tipo são iguais: \"Venda\""
      ],
      "metadata": {
        "id": "EIr63C1Ci-fk"
      },
      "execution_count": 16,
      "outputs": []
    },
    {
      "cell_type": "markdown",
      "source": [
        "## Drop das colunas tipo_anuncio, tipo_uso, tipo_unidade e tipo\n"
      ],
      "metadata": {
        "id": "IdsoYVSc661L"
      }
    },
    {
      "cell_type": "code",
      "source": [
        "# como as colunas citadas acima possuem apenas uma única informação, podem ser eliminadas do dataframe a fim de deixar apenas dados mais significativos:\n",
        "\n",
        "data = data.drop('tipo_anuncio')\n",
        "data = data.drop('tipo_uso')\n",
        "data = data.drop('tipo_unidade')\n",
        "data = data.drop('tipo')\n",
        "data.show(5)"
      ],
      "metadata": {
        "colab": {
          "base_uri": "https://localhost:8080/"
        },
        "id": "YvJ6r7m87C_H",
        "outputId": "6e13db63-2b75-4c40-8262-eee525e10b01"
      },
      "execution_count": 17,
      "outputs": [
        {
          "output_type": "stream",
          "name": "stdout",
          "text": [
            "+--------------------+-----+----------+---------+---------+--------------------+-------+------+----+------------+------------+----------+----+------+\n",
            "|                  id|andar|area_total|area_util|banheiros|     caracteristicas|quartos|suites|vaga|      bairro|        zona|condominio|iptu| valor|\n",
            "+--------------------+-----+----------+---------+---------+--------------------+-------+------+----+------------+------------+----------+----+------+\n",
            "|03a386b6-7ab8-4ef...|    0|        43|       43|        1|[Churrasqueira, A...|      2|  null|   1|    Realengo|  Zona Oeste|       285|null| 22999|\n",
            "|1fe78d41-b8e0-4d2...|    0|        44|       44|        1|                  []|      2|     0|   0|       Irajá|  Zona Norte|       170|   0|110000|\n",
            "|1fa1c1e5-e98c-433...|    4|      null|       55|        1|                  []|      2|     0|   1|      Cosmos|  Zona Oeste|      null|null|115000|\n",
            "|a6ab01ae-3d40-40e...|    2|      null|       55|        1|                  []|      2|     0|   0|Tomás Coelho|  Zona Norte|      null|null|115000|\n",
            "|1d8ff7a2-16bd-4e3...|    0|      null|       50|        1|                  []|      1|  null|   0|      Centro|Zona Central|      1300|2679|125000|\n",
            "+--------------------+-----+----------+---------+---------+--------------------+-------+------+----+------------+------------+----------+----+------+\n",
            "only showing top 5 rows\n",
            "\n"
          ]
        }
      ]
    },
    {
      "cell_type": "markdown",
      "source": [
        "## Colunas area_total e area_util"
      ],
      "metadata": {
        "id": "B2GmevS9kZVY"
      }
    },
    {
      "cell_type": "code",
      "source": [
        "# contando os valores da coluna area_total:\n",
        "\n",
        "data.select('area_total').groupBy('area_total').count().show()"
      ],
      "metadata": {
        "colab": {
          "base_uri": "https://localhost:8080/"
        },
        "id": "YX_1KWl-keSj",
        "outputId": "136ccf7f-791d-483e-96f5-7cea820bb1f6"
      },
      "execution_count": 18,
      "outputs": [
        {
          "output_type": "stream",
          "name": "stdout",
          "text": [
            "+----------+-----+\n",
            "|area_total|count|\n",
            "+----------+-----+\n",
            "|       296|   31|\n",
            "|       691|    1|\n",
            "|       675|    1|\n",
            "|       125|  253|\n",
            "|       800|    5|\n",
            "|   5698720|    1|\n",
            "|        51|  206|\n",
            "|       124|  159|\n",
            "|         7|    2|\n",
            "|       447|    1|\n",
            "|       307|   25|\n",
            "|     17583|    3|\n",
            "|      1695|    1|\n",
            "|      1500|    1|\n",
            "|       205|   44|\n",
            "|       169|   75|\n",
            "|      7402|    4|\n",
            "|       334|    6|\n",
            "|       544|    1|\n",
            "|       272|   11|\n",
            "+----------+-----+\n",
            "only showing top 20 rows\n",
            "\n"
          ]
        }
      ]
    },
    {
      "cell_type": "code",
      "source": [
        "# contando os valores area_util:\n",
        "\n",
        "data.select('area_util').groupBy('area_util').count().show()"
      ],
      "metadata": {
        "colab": {
          "base_uri": "https://localhost:8080/"
        },
        "id": "x4TovKqpjiah",
        "outputId": "088f9126-4609-40d1-cb89-14319f881145"
      },
      "execution_count": 19,
      "outputs": [
        {
          "output_type": "stream",
          "name": "stdout",
          "text": [
            "+---------+-----+\n",
            "|area_util|count|\n",
            "+---------+-----+\n",
            "|      296|   33|\n",
            "|      675|    1|\n",
            "|      125|  287|\n",
            "|      800|    5|\n",
            "|      944|    2|\n",
            "|       51|  273|\n",
            "|      124|  174|\n",
            "|      447|    1|\n",
            "|      307|   29|\n",
            "|      205|   49|\n",
            "|      169|   90|\n",
            "|      334|    6|\n",
            "|      544|    1|\n",
            "|      740|    1|\n",
            "|      272|   11|\n",
            "|      470|   11|\n",
            "|      462|    2|\n",
            "|       54|  414|\n",
            "|      232|   41|\n",
            "|      234|   37|\n",
            "+---------+-----+\n",
            "only showing top 20 rows\n",
            "\n"
          ]
        }
      ]
    },
    {
      "cell_type": "code",
      "source": [
        "# apesar de existirem vários valores que se repetem, visualizando-os de maneira mais ampla vemos que estes são abrangentes e não podem ser descartados."
      ],
      "metadata": {
        "id": "gNwvAiTisszi"
      },
      "execution_count": 20,
      "outputs": []
    },
    {
      "cell_type": "code",
      "source": [
        "# para contar os valores nulos nas colunas area_total e area_util temos que:\n",
        "\n",
        "from pyspark.sql.functions import col, isnan, when, count, lit, explode, array_contains, size, isnull, array"
      ],
      "metadata": {
        "id": "9ccNgnF4pLp5"
      },
      "execution_count": 21,
      "outputs": []
    },
    {
      "cell_type": "code",
      "source": [
        "null_area = data.select([count(when(isnan(c) | col(c).isNull(), c)).alias(c) for c in data.select(['area_total', 'area_util']).columns])\n",
        "null_area.show()"
      ],
      "metadata": {
        "colab": {
          "base_uri": "https://localhost:8080/"
        },
        "id": "M8A4bBG9cBQA",
        "outputId": "2d807cb7-d9e7-4dc5-c5e8-a04f9347e2c5"
      },
      "execution_count": 22,
      "outputs": [
        {
          "output_type": "stream",
          "name": "stdout",
          "text": [
            "+----------+---------+\n",
            "|area_total|area_util|\n",
            "+----------+---------+\n",
            "|      9194|        0|\n",
            "+----------+---------+\n",
            "\n"
          ]
        }
      ]
    },
    {
      "cell_type": "code",
      "source": [
        "# apenas a coluna area_total possui dados nulos."
      ],
      "metadata": {
        "id": "B2p6DqE7vz1u"
      },
      "execution_count": 23,
      "outputs": []
    },
    {
      "cell_type": "markdown",
      "source": [
        "# Convertendo os tipos das colunas"
      ],
      "metadata": {
        "id": "yAzUwUEev_7j"
      }
    },
    {
      "cell_type": "code",
      "source": [
        "from pyspark.sql.types import IntegerType, DoubleType, StringType"
      ],
      "metadata": {
        "id": "WbiGQZI2wJyY"
      },
      "execution_count": 24,
      "outputs": []
    },
    {
      "cell_type": "code",
      "source": [
        "data.printSchema()"
      ],
      "metadata": {
        "colab": {
          "base_uri": "https://localhost:8080/"
        },
        "id": "-K6SO6nEtJm0",
        "outputId": "fad5b673-fa77-4323-d9a0-8961e77680a0"
      },
      "execution_count": 25,
      "outputs": [
        {
          "output_type": "stream",
          "name": "stdout",
          "text": [
            "root\n",
            " |-- id: string (nullable = true)\n",
            " |-- andar: long (nullable = true)\n",
            " |-- area_total: string (nullable = true)\n",
            " |-- area_util: string (nullable = true)\n",
            " |-- banheiros: long (nullable = true)\n",
            " |-- caracteristicas: array (nullable = true)\n",
            " |    |-- element: string (containsNull = true)\n",
            " |-- quartos: long (nullable = true)\n",
            " |-- suites: long (nullable = true)\n",
            " |-- vaga: long (nullable = true)\n",
            " |-- bairro: string (nullable = true)\n",
            " |-- zona: string (nullable = true)\n",
            " |-- condominio: string (nullable = true)\n",
            " |-- iptu: string (nullable = true)\n",
            " |-- valor: string (nullable = true)\n",
            "\n"
          ]
        }
      ]
    },
    {
      "cell_type": "markdown",
      "source": [
        "## Para o tipo Integer"
      ],
      "metadata": {
        "id": "gCSysSRsiqLh"
      }
    },
    {
      "cell_type": "markdown",
      "source": [
        "Coluna andar"
      ],
      "metadata": {
        "id": "4sKt30N1g6wa"
      }
    },
    {
      "cell_type": "code",
      "source": [
        "data = data.withColumn('andar', data['andar'].cast(IntegerType()))"
      ],
      "metadata": {
        "id": "O-GsE1ouwDji"
      },
      "execution_count": 26,
      "outputs": []
    },
    {
      "cell_type": "markdown",
      "source": [
        "Coluna banheiros"
      ],
      "metadata": {
        "id": "EbZV7JzIhUQ3"
      }
    },
    {
      "cell_type": "code",
      "source": [
        "data = data.withColumn('banheiros', data['banheiros'].cast(IntegerType()))"
      ],
      "metadata": {
        "id": "fBc-Kn4fhQ29"
      },
      "execution_count": 27,
      "outputs": []
    },
    {
      "cell_type": "markdown",
      "source": [
        "Coluna suites"
      ],
      "metadata": {
        "id": "UNo9R_RxhhdN"
      }
    },
    {
      "cell_type": "code",
      "source": [
        "data = data.withColumn('suites', data['suites'].cast(IntegerType()))"
      ],
      "metadata": {
        "id": "clagkWoQhhD-"
      },
      "execution_count": 28,
      "outputs": []
    },
    {
      "cell_type": "markdown",
      "source": [
        "Coluna quartos"
      ],
      "metadata": {
        "id": "vjy__V4JhqCM"
      }
    },
    {
      "cell_type": "code",
      "source": [
        "data = data.withColumn('quartos', data['quartos'].cast(IntegerType()))"
      ],
      "metadata": {
        "id": "1L60jDRWhtU_"
      },
      "execution_count": 29,
      "outputs": []
    },
    {
      "cell_type": "markdown",
      "source": [
        "## Para o tipo Double"
      ],
      "metadata": {
        "id": "A9I4EQrBivjV"
      }
    },
    {
      "cell_type": "markdown",
      "source": [
        "Coluna area_total"
      ],
      "metadata": {
        "id": "nerCxS_lix8A"
      }
    },
    {
      "cell_type": "code",
      "source": [
        "data = data.withColumn('area_total', data['area_total'].cast(DoubleType()))"
      ],
      "metadata": {
        "id": "XLF3fu1_wk5C"
      },
      "execution_count": 30,
      "outputs": []
    },
    {
      "cell_type": "markdown",
      "source": [
        "Coluna area_util"
      ],
      "metadata": {
        "id": "NmmPisFLjL2L"
      }
    },
    {
      "cell_type": "code",
      "source": [
        "data = data.withColumn('area_util', data['area_util'].cast(DoubleType()))"
      ],
      "metadata": {
        "id": "-d1C_-r1wpmj"
      },
      "execution_count": 31,
      "outputs": []
    },
    {
      "cell_type": "markdown",
      "source": [
        "Coluna condominio"
      ],
      "metadata": {
        "id": "B7j4FXj4jU8T"
      }
    },
    {
      "cell_type": "code",
      "source": [
        "data = data.withColumn('condominio', data['condominio'].cast(DoubleType()))"
      ],
      "metadata": {
        "id": "HV6DKKy1jUT1"
      },
      "execution_count": 32,
      "outputs": []
    },
    {
      "cell_type": "markdown",
      "source": [
        "Coluna iptu"
      ],
      "metadata": {
        "id": "kWjtBQG3jkSb"
      }
    },
    {
      "cell_type": "code",
      "source": [
        "data = data.withColumn('iptu', data['iptu'].cast(DoubleType()))"
      ],
      "metadata": {
        "id": "4rYGNrvBjdPk"
      },
      "execution_count": 33,
      "outputs": []
    },
    {
      "cell_type": "markdown",
      "source": [
        "Coluna valor"
      ],
      "metadata": {
        "id": "cplXCuLWj0mb"
      }
    },
    {
      "cell_type": "code",
      "source": [
        "data = data.withColumn('valor', data['valor'].cast(DoubleType()))"
      ],
      "metadata": {
        "id": "B3fcom8kjrrP"
      },
      "execution_count": 34,
      "outputs": []
    },
    {
      "cell_type": "code",
      "source": [
        "# por fim, mostra-se o Schema dos dados para verificar se houve a conversão dos tipos dos dados das colunas:\n",
        "\n",
        "data.printSchema()"
      ],
      "metadata": {
        "colab": {
          "base_uri": "https://localhost:8080/"
        },
        "id": "LfWmPkyAj1dj",
        "outputId": "529b9881-dee2-4012-fda6-14505ad95de4"
      },
      "execution_count": 35,
      "outputs": [
        {
          "output_type": "stream",
          "name": "stdout",
          "text": [
            "root\n",
            " |-- id: string (nullable = true)\n",
            " |-- andar: integer (nullable = true)\n",
            " |-- area_total: double (nullable = true)\n",
            " |-- area_util: double (nullable = true)\n",
            " |-- banheiros: integer (nullable = true)\n",
            " |-- caracteristicas: array (nullable = true)\n",
            " |    |-- element: string (containsNull = true)\n",
            " |-- quartos: integer (nullable = true)\n",
            " |-- suites: integer (nullable = true)\n",
            " |-- vaga: long (nullable = true)\n",
            " |-- bairro: string (nullable = true)\n",
            " |-- zona: string (nullable = true)\n",
            " |-- condominio: double (nullable = true)\n",
            " |-- iptu: double (nullable = true)\n",
            " |-- valor: double (nullable = true)\n",
            "\n"
          ]
        }
      ]
    },
    {
      "cell_type": "markdown",
      "source": [
        "# Tratamento da coluna características"
      ],
      "metadata": {
        "id": "bSAYN8jUkZWJ"
      }
    },
    {
      "cell_type": "code",
      "source": [
        "# os dados em que a coluna caracteristicas apresentan arrays vazios:\n",
        "\n",
        "data.filter(size('caracteristicas') == 0).show(5)"
      ],
      "metadata": {
        "colab": {
          "base_uri": "https://localhost:8080/"
        },
        "id": "ZiMCUVJkj_wl",
        "outputId": "4d3541e2-562e-4802-bcf2-2d61f5db7bef"
      },
      "execution_count": 36,
      "outputs": [
        {
          "output_type": "stream",
          "name": "stdout",
          "text": [
            "+--------------------+-----+----------+---------+---------+---------------+-------+------+----+------------+------------+----------+------+--------+\n",
            "|                  id|andar|area_total|area_util|banheiros|caracteristicas|quartos|suites|vaga|      bairro|        zona|condominio|  iptu|   valor|\n",
            "+--------------------+-----+----------+---------+---------+---------------+-------+------+----+------------+------------+----------+------+--------+\n",
            "|1fe78d41-b8e0-4d2...|    0|      44.0|     44.0|        1|             []|      2|     0|   0|       Irajá|  Zona Norte|     170.0|   0.0|110000.0|\n",
            "|1fa1c1e5-e98c-433...|    4|      null|     55.0|        1|             []|      2|     0|   1|      Cosmos|  Zona Oeste|      null|  null|115000.0|\n",
            "|a6ab01ae-3d40-40e...|    2|      null|     55.0|        1|             []|      2|     0|   0|Tomás Coelho|  Zona Norte|      null|  null|115000.0|\n",
            "|1d8ff7a2-16bd-4e3...|    0|      null|     50.0|        1|             []|      1|  null|   0|      Centro|Zona Central|    1300.0|2679.0|125000.0|\n",
            "|47af17f0-1c81-474...|    0|      65.0|     65.0|        1|             []|      2|     0|   1|    Campinho|  Zona Oeste|     432.0|  null|185000.0|\n",
            "+--------------------+-----+----------+---------+---------+---------------+-------+------+----+------------+------------+----------+------+--------+\n",
            "only showing top 5 rows\n",
            "\n"
          ]
        }
      ]
    },
    {
      "cell_type": "code",
      "source": [
        "# São ao todo:\n",
        "\n",
        "f'{data.filter(size(\"caracteristicas\") == 0).count()} linhas do dataframe com essa especificidade'"
      ],
      "metadata": {
        "colab": {
          "base_uri": "https://localhost:8080/",
          "height": 35
        },
        "id": "4VERhB7hkh6h",
        "outputId": "bea35f41-a845-4e30-985d-6b18061e2641"
      },
      "execution_count": 37,
      "outputs": [
        {
          "output_type": "execute_result",
          "data": {
            "text/plain": [
              "'12736 linhas do dataframe com essa especificidade'"
            ],
            "application/vnd.google.colaboratory.intrinsic+json": {
              "type": "string"
            }
          },
          "metadata": {},
          "execution_count": 37
        }
      ]
    },
    {
      "cell_type": "code",
      "source": [
        "# substitui-se os arrays vazios por valores nulos:\n",
        "\n",
        "data = data.withColumn('caracteristicas', when((size(col('caracteristicas')) == 0), lit(None)).otherwise(col('caracteristicas')))"
      ],
      "metadata": {
        "id": "D2j2fGCiyV6t"
      },
      "execution_count": 38,
      "outputs": []
    },
    {
      "cell_type": "code",
      "source": [
        "# e verifica-se que o número de linhas da coluna caracteristicas com valores nulos é igual ao número de linhas que tinham arrays vazios:\n",
        "\n",
        "data.filter(data['caracteristicas'].isNull()).count()"
      ],
      "metadata": {
        "colab": {
          "base_uri": "https://localhost:8080/"
        },
        "id": "vUgkEIdjywDN",
        "outputId": "7b95bc4c-589a-4f52-b412-5d56f230854c"
      },
      "execution_count": 39,
      "outputs": [
        {
          "output_type": "execute_result",
          "data": {
            "text/plain": [
              "12736"
            ]
          },
          "metadata": {},
          "execution_count": 39
        }
      ]
    },
    {
      "cell_type": "code",
      "source": [
        "data.filter(data['caracteristicas'].isNull()).show(5)"
      ],
      "metadata": {
        "colab": {
          "base_uri": "https://localhost:8080/"
        },
        "id": "t3he0ogM2-xu",
        "outputId": "aa68cc69-f2e2-41ab-8ebc-930141eca161"
      },
      "execution_count": 40,
      "outputs": [
        {
          "output_type": "stream",
          "name": "stdout",
          "text": [
            "+--------------------+-----+----------+---------+---------+---------------+-------+------+----+------------+------------+----------+------+--------+\n",
            "|                  id|andar|area_total|area_util|banheiros|caracteristicas|quartos|suites|vaga|      bairro|        zona|condominio|  iptu|   valor|\n",
            "+--------------------+-----+----------+---------+---------+---------------+-------+------+----+------------+------------+----------+------+--------+\n",
            "|1fe78d41-b8e0-4d2...|    0|      44.0|     44.0|        1|           null|      2|     0|   0|       Irajá|  Zona Norte|     170.0|   0.0|110000.0|\n",
            "|1fa1c1e5-e98c-433...|    4|      null|     55.0|        1|           null|      2|     0|   1|      Cosmos|  Zona Oeste|      null|  null|115000.0|\n",
            "|a6ab01ae-3d40-40e...|    2|      null|     55.0|        1|           null|      2|     0|   0|Tomás Coelho|  Zona Norte|      null|  null|115000.0|\n",
            "|1d8ff7a2-16bd-4e3...|    0|      null|     50.0|        1|           null|      1|  null|   0|      Centro|Zona Central|    1300.0|2679.0|125000.0|\n",
            "|47af17f0-1c81-474...|    0|      65.0|     65.0|        1|           null|      2|     0|   1|    Campinho|  Zona Oeste|     432.0|  null|185000.0|\n",
            "+--------------------+-----+----------+---------+---------+---------------+-------+------+----+------------+------------+----------+------+--------+\n",
            "only showing top 5 rows\n",
            "\n"
          ]
        }
      ]
    },
    {
      "cell_type": "markdown",
      "source": [
        "# Tratamento de dados nulos e NaN's"
      ],
      "metadata": {
        "id": "OlT1UL3fhJ2-"
      }
    },
    {
      "cell_type": "code",
      "source": [
        "selected_data = data.select(\n",
        "    'id', 'andar', 'area_total', \n",
        "    'area_util', 'banheiros', 'quartos', \n",
        "    'suites', 'vaga', 'bairro', \n",
        "    'zona', 'condominio', 'iptu', 'valor'\n",
        ")"
      ],
      "metadata": {
        "id": "r6PvN1kdihrI"
      },
      "execution_count": 41,
      "outputs": []
    },
    {
      "cell_type": "code",
      "source": [
        "# a quantidade de valores nulos (None e NaN) para cada coluna:\n",
        "\n",
        "data_count_null = data.select([count(when(isnan(c) | col(c).isNull(), c)).alias(c) for c in selected_data.columns])\n",
        "data_count_null.show()"
      ],
      "metadata": {
        "colab": {
          "base_uri": "https://localhost:8080/"
        },
        "id": "qp1A-2pShNnK",
        "outputId": "13ac7213-8efe-462f-c19a-8b41c6b30d16"
      },
      "execution_count": 42,
      "outputs": [
        {
          "output_type": "stream",
          "name": "stdout",
          "text": [
            "+---+-----+----------+---------+---------+-------+------+----+------+----+----------+----+-----+\n",
            "| id|andar|area_total|area_util|banheiros|quartos|suites|vaga|bairro|zona|condominio|iptu|valor|\n",
            "+---+-----+----------+---------+---------+-------+------+----+------+----+----------+----+-----+\n",
            "|  0|    0|      9194|        0|        0|      0|  5554|3017|     0|   0|      2371|7199|    0|\n",
            "+---+-----+----------+---------+---------+-------+------+----+------+----+----------+----+-----+\n",
            "\n"
          ]
        }
      ]
    },
    {
      "cell_type": "markdown",
      "source": [
        "## Porcentagem dos valores nulos"
      ],
      "metadata": {
        "id": "QzqKEwQYv8At"
      }
    },
    {
      "cell_type": "code",
      "source": [
        "# um possível tratamento para dados nulos é a eliminação desses dados do dataframe, porém isso só indicado quando os dados nulos não ultrapassam 10% dos dados:\n",
        "\n",
        "total_data = data.count()\n",
        "f'O dataframe possui {total_data} linhas com dados'"
      ],
      "metadata": {
        "colab": {
          "base_uri": "https://localhost:8080/",
          "height": 35
        },
        "id": "-ONtTW-GhSNc",
        "outputId": "31d9f35d-0833-4709-d775-3088b9423e0f"
      },
      "execution_count": 43,
      "outputs": [
        {
          "output_type": "execute_result",
          "data": {
            "text/plain": [
              "'O dataframe possui 66562 linhas com dados'"
            ],
            "application/vnd.google.colaboratory.intrinsic+json": {
              "type": "string"
            }
          },
          "metadata": {},
          "execution_count": 43
        }
      ]
    },
    {
      "cell_type": "code",
      "source": [
        "f'Os dados nulos da coluna area_total correspondem a {round(((9194 / total_data) * 100), 2)}% dos dados'"
      ],
      "metadata": {
        "colab": {
          "base_uri": "https://localhost:8080/",
          "height": 35
        },
        "id": "KCHtnffOlQjF",
        "outputId": "7ff98d59-6fb3-4a28-a38b-007722172deb"
      },
      "execution_count": 44,
      "outputs": [
        {
          "output_type": "execute_result",
          "data": {
            "text/plain": [
              "'Os dados nulos da coluna area_total correspondem a 13.81% dos dados'"
            ],
            "application/vnd.google.colaboratory.intrinsic+json": {
              "type": "string"
            }
          },
          "metadata": {},
          "execution_count": 44
        }
      ]
    },
    {
      "cell_type": "code",
      "source": [
        "f'Os dados nulos da coluna suites correspondem a {round(((5554 / total_data) * 100), 2)}% dos dados'"
      ],
      "metadata": {
        "colab": {
          "base_uri": "https://localhost:8080/",
          "height": 35
        },
        "id": "_u2vnKhilbSy",
        "outputId": "8214a62a-fcbc-4275-a31e-f5dc4020c6de"
      },
      "execution_count": 45,
      "outputs": [
        {
          "output_type": "execute_result",
          "data": {
            "text/plain": [
              "'Os dados nulos da coluna suites correspondem a 8.34% dos dados'"
            ],
            "application/vnd.google.colaboratory.intrinsic+json": {
              "type": "string"
            }
          },
          "metadata": {},
          "execution_count": 45
        }
      ]
    },
    {
      "cell_type": "code",
      "source": [
        "f'Os dados nulos da coluna vaga correspondem a {round(((3017 / total_data) * 100), 2)}% dos dados'"
      ],
      "metadata": {
        "colab": {
          "base_uri": "https://localhost:8080/",
          "height": 35
        },
        "id": "Fakq7UTylsGD",
        "outputId": "297fd35c-ddf6-40c8-b0b5-59a9c28f9952"
      },
      "execution_count": 46,
      "outputs": [
        {
          "output_type": "execute_result",
          "data": {
            "text/plain": [
              "'Os dados nulos da coluna vaga correspondem a 4.53% dos dados'"
            ],
            "application/vnd.google.colaboratory.intrinsic+json": {
              "type": "string"
            }
          },
          "metadata": {},
          "execution_count": 46
        }
      ]
    },
    {
      "cell_type": "code",
      "source": [
        "f'Os dados nulos da coluna condominio correspondem a {round(((2371 / total_data) * 100), 2)}% dos dados'"
      ],
      "metadata": {
        "colab": {
          "base_uri": "https://localhost:8080/",
          "height": 35
        },
        "id": "m3Datq7klyCA",
        "outputId": "9eff6e52-9f2b-4b8c-e196-feb2f37aecce"
      },
      "execution_count": 47,
      "outputs": [
        {
          "output_type": "execute_result",
          "data": {
            "text/plain": [
              "'Os dados nulos da coluna condominio correspondem a 3.56% dos dados'"
            ],
            "application/vnd.google.colaboratory.intrinsic+json": {
              "type": "string"
            }
          },
          "metadata": {},
          "execution_count": 47
        }
      ]
    },
    {
      "cell_type": "code",
      "source": [
        "f'Os dados nulos da coluna iptu correspondem a {round(((7199 / total_data) * 100), 2)}% dos dados'"
      ],
      "metadata": {
        "colab": {
          "base_uri": "https://localhost:8080/",
          "height": 35
        },
        "id": "OYootDsfo3m_",
        "outputId": "058c5f52-daf3-4134-e359-b6c4dffe6037"
      },
      "execution_count": 48,
      "outputs": [
        {
          "output_type": "execute_result",
          "data": {
            "text/plain": [
              "'Os dados nulos da coluna iptu correspondem a 10.82% dos dados'"
            ],
            "application/vnd.google.colaboratory.intrinsic+json": {
              "type": "string"
            }
          },
          "metadata": {},
          "execution_count": 48
        }
      ]
    },
    {
      "cell_type": "markdown",
      "source": [
        "## Estatísticas descritivas"
      ],
      "metadata": {
        "id": "w4eq01v0v__x"
      }
    },
    {
      "cell_type": "code",
      "source": [
        "# a tabela abaixo mostra algumas estatísticas descritivas dos dados do dataframe:\n",
        "\n",
        "data_summary = data.summary()\n",
        "data_summary.show()"
      ],
      "metadata": {
        "colab": {
          "base_uri": "https://localhost:8080/"
        },
        "id": "KLQ92QxBwBtv",
        "outputId": "09273908-ff47-4be3-eb6f-9b5b877c3703"
      },
      "execution_count": 49,
      "outputs": [
        {
          "output_type": "stream",
          "name": "stdout",
          "text": [
            "+-------+--------------------+------------------+-----------------+------------------+------------------+------------------+------------------+------------------+----------+--------+------------------+------------------+------------------+\n",
            "|summary|                  id|             andar|       area_total|         area_util|         banheiros|           quartos|            suites|              vaga|    bairro|    zona|        condominio|              iptu|             valor|\n",
            "+-------+--------------------+------------------+-----------------+------------------+------------------+------------------+------------------+------------------+----------+--------+------------------+------------------+------------------+\n",
            "|  count|               66562|             66562|            57368|             66562|             66562|             66562|             61008|             63545|     66562|   66562|             64191|             59363|             66562|\n",
            "|   mean|                null|2.3374598119046905|938.1081264816622|116.73728253357771| 2.454583696403353|2.6121811243652533|1.2091528979805928|1.4069084900464237|      null|    null|4822.7975728684705|5447.7366036083085|1294433.2853129413|\n",
            "| stddev|                null|  14.6963496227043|84173.43322353458| 89.09094364150394|1.3582533594407473|0.9083944981999731|1.0567921717756774|1.3413027342394985|      null|    null|106049.70098633446| 181192.7605568003| 1471723.315533184|\n",
            "|    min|00002dd9-cc74-480...|                 0|              0.0|              10.0|                 1|                 0|                 0|                 0|  Abolição|        |               0.0|               0.0|           15000.0|\n",
            "|    25%|                null|                 0|             68.0|              67.0|                 2|                 2|                 1|                 1|      null|    null|             463.0|              54.0|          455000.0|\n",
            "|    50%|                null|                 0|             90.0|              90.0|                 2|                 3|                 1|                 1|      null|    null|             894.0|             360.0|          808600.0|\n",
            "|    75%|                null|                 3|            140.0|             138.0|                 3|                 3|                 1|                 2|      null|    null|            1480.0|            1849.0|         1540000.0|\n",
            "|    max|fffe97aa-814b-4eb...|              1234|      1.5022793E7|            3456.0|                19|                16|                30|                99|Água Santa|Zona Sul|             1.1E7|             2.0E7|            1.39E7|\n",
            "+-------+--------------------+------------------+-----------------+------------------+------------------+------------------+------------------+------------------+----------+--------+------------------+------------------+------------------+\n",
            "\n"
          ]
        }
      ]
    },
    {
      "cell_type": "markdown",
      "source": [
        "Mediana da coluna area_total"
      ],
      "metadata": {
        "id": "8qy0YilMzv60"
      }
    },
    {
      "cell_type": "code",
      "source": [
        "# ao usar o método collect() obtém-se um valor passando a linha em que este se encontra no dataframe, como anseia-se pela mediana:\n",
        "\n",
        "# area_total_median = data_summary.select('area_total').collect()[5][0]\n",
        "# area_total_median = float(area_total_median)\n",
        "# area_total_median\n",
        "\n",
        "# average_area_total = data_summary.select('area_total').collect()[1][0]\n",
        "# average_area_total = float(average_area_total)\n",
        "# average_area_total"
      ],
      "metadata": {
        "id": "2Ql-aS7vxoNp"
      },
      "execution_count": 50,
      "outputs": []
    },
    {
      "cell_type": "markdown",
      "source": [
        "Mediana da coluna suites"
      ],
      "metadata": {
        "id": "DvTEkWo2z01Q"
      }
    },
    {
      "cell_type": "code",
      "source": [
        "# average_suites = float(data_summary.select('suites').collect()[1][0])\n",
        "# average_suites"
      ],
      "metadata": {
        "id": "DXwGvsWTxIQK"
      },
      "execution_count": 51,
      "outputs": []
    },
    {
      "cell_type": "markdown",
      "source": [
        "Mediana da coluna vaga"
      ],
      "metadata": {
        "id": "INQtgURR0G2g"
      }
    },
    {
      "cell_type": "code",
      "source": [
        "# average_vaga = float(data_summary.select('vaga').collect()[1][0])\n",
        "# average_vaga"
      ],
      "metadata": {
        "id": "B3lZD14S0GEc"
      },
      "execution_count": 52,
      "outputs": []
    },
    {
      "cell_type": "markdown",
      "source": [
        "Mediana da coluna condominio"
      ],
      "metadata": {
        "id": "Jy6YGb-a0uNf"
      }
    },
    {
      "cell_type": "code",
      "source": [
        "# condominio_median = float(data_summary.select('condominio').collect()[5][0])\n",
        "# condominio_median\n",
        "\n",
        "# average_condominio = float(data_summary.select('condominio').collect()[1][0])\n",
        "# average_condominio"
      ],
      "metadata": {
        "id": "sWYh9LYa0teT"
      },
      "execution_count": 53,
      "outputs": []
    },
    {
      "cell_type": "markdown",
      "source": [
        "Mediana da coluna iptu"
      ],
      "metadata": {
        "id": "E_1vUwAD1i6g"
      }
    },
    {
      "cell_type": "code",
      "source": [
        "# iptu_median = float(data_summary.select('iptu').collect()[5][0])\n",
        "# iptu_median\n",
        "\n",
        "# average_iptu = float(data_summary.select('iptu').collect()[1][0])\n",
        "# average_iptu"
      ],
      "metadata": {
        "id": "NspSRSvV1fqr"
      },
      "execution_count": 54,
      "outputs": []
    },
    {
      "cell_type": "markdown",
      "source": [
        "## Substituição dos valores nulos por zero"
      ],
      "metadata": {
        "id": "jpDvfexE39IN"
      }
    },
    {
      "cell_type": "code",
      "source": [
        "data = data.fillna(0)"
      ],
      "metadata": {
        "id": "QE_JDXBjGuXS"
      },
      "execution_count": 55,
      "outputs": []
    },
    {
      "cell_type": "code",
      "source": [
        "# columns_median = {\n",
        "#     'area_total': area_total_median,\n",
        "#     'suites': suites_median,\n",
        "#     'vaga': vaga_median,\n",
        "#     'condominio': condominio_median,\n",
        "#     'iptu': iptu_median\n",
        "# }        \n",
        "\n",
        "# columns_average = {\n",
        "#     'area_total': average_area_total,\n",
        "#     'suites': average_suites,\n",
        "#     'vaga': average_vaga,\n",
        "#     'condominio': average_condominio,\n",
        "#     'iptu': average_iptu\n",
        "# }        "
      ],
      "metadata": {
        "id": "tZOGATuo2ySr"
      },
      "execution_count": 56,
      "outputs": []
    },
    {
      "cell_type": "code",
      "source": [
        "# para substituir os valores nulos para cada coluna:\n",
        "\n",
        "# for columns in columns_median.keys():\n",
        "#   data = data.na.fill(value= columns_median[columns], subset= [columns])\n",
        "\n",
        "# for columns in columns_average.keys():\n",
        "#   data = data.na.fill(value= columns_average[columns], subset= [columns])"
      ],
      "metadata": {
        "id": "5Ek5qUHs3UtI"
      },
      "execution_count": 57,
      "outputs": []
    },
    {
      "cell_type": "code",
      "source": [
        "data.select([count(when(isnan(c) | col(c).isNull(), c)).alias(c) for c in selected_data.columns]).show()"
      ],
      "metadata": {
        "colab": {
          "base_uri": "https://localhost:8080/"
        },
        "id": "AjRfwTYa4QLM",
        "outputId": "5722e0a5-e344-4f3a-86d1-ffdb45dfb5cf"
      },
      "execution_count": 58,
      "outputs": [
        {
          "output_type": "stream",
          "name": "stdout",
          "text": [
            "+---+-----+----------+---------+---------+-------+------+----+------+----+----------+----+-----+\n",
            "| id|andar|area_total|area_util|banheiros|quartos|suites|vaga|bairro|zona|condominio|iptu|valor|\n",
            "+---+-----+----------+---------+---------+-------+------+----+------+----+----------+----+-----+\n",
            "|  0|    0|         0|        0|        0|      0|     0|   0|     0|   0|         0|   0|    0|\n",
            "+---+-----+----------+---------+---------+-------+------+----+------+----+----------+----+-----+\n",
            "\n"
          ]
        }
      ]
    },
    {
      "cell_type": "code",
      "source": [
        "# todos os valores nulos foram substituídos pela mediana das respectivas colunas"
      ],
      "metadata": {
        "id": "HMcGu4LK4b9Y"
      },
      "execution_count": 59,
      "outputs": []
    },
    {
      "cell_type": "code",
      "source": [
        "data.show(10)"
      ],
      "metadata": {
        "colab": {
          "base_uri": "https://localhost:8080/"
        },
        "id": "axP7Pu7Q66a2",
        "outputId": "6765723a-dfaa-48b0-9a9f-83b3f2db6a21"
      },
      "execution_count": 60,
      "outputs": [
        {
          "output_type": "stream",
          "name": "stdout",
          "text": [
            "+--------------------+-----+----------+---------+---------+--------------------+-------+------+----+--------------------+------------+----------+------+--------+\n",
            "|                  id|andar|area_total|area_util|banheiros|     caracteristicas|quartos|suites|vaga|              bairro|        zona|condominio|  iptu|   valor|\n",
            "+--------------------+-----+----------+---------+---------+--------------------+-------+------+----+--------------------+------------+----------+------+--------+\n",
            "|03a386b6-7ab8-4ef...|    0|      43.0|     43.0|        1|[Churrasqueira, A...|      2|     0|   1|            Realengo|  Zona Oeste|     285.0|   0.0| 22999.0|\n",
            "|1fe78d41-b8e0-4d2...|    0|      44.0|     44.0|        1|                null|      2|     0|   0|               Irajá|  Zona Norte|     170.0|   0.0|110000.0|\n",
            "|1fa1c1e5-e98c-433...|    4|       0.0|     55.0|        1|                null|      2|     0|   1|              Cosmos|  Zona Oeste|       0.0|   0.0|115000.0|\n",
            "|a6ab01ae-3d40-40e...|    2|       0.0|     55.0|        1|                null|      2|     0|   0|        Tomás Coelho|  Zona Norte|       0.0|   0.0|115000.0|\n",
            "|1d8ff7a2-16bd-4e3...|    0|       0.0|     50.0|        1|                null|      1|     0|   0|              Centro|Zona Central|    1300.0|2679.0|125000.0|\n",
            "|40a2cbde-946b-42d...|    2|      47.0|     47.0|        1|[Condomínio fecha...|      2|     0|   1|        Campo Grande|  Zona Oeste|     380.0|   0.0|138000.0|\n",
            "|be269ddf-a4a3-4a7...|    0|   17089.0|     45.0|        1|[Churrasqueira, C...|      2|     0|   1|        Campo Grande|  Zona Oeste|     356.0|   0.0|140000.0|\n",
            "|4b7e3d59-34fd-4ba...|    3|      48.0|     48.0|        1|[Churrasqueira, P...|      2|     0|   1|        Campo Grande|  Zona Oeste|       0.0|   0.0|150000.0|\n",
            "|a1a0c2ac-4fa8-4b0...|    9|       0.0|     55.0|        1|[Churrasqueira, E...|      2|     0|   1|Freguesia (Jacare...|  Zona Oeste|     780.0| 660.0|160000.0|\n",
            "|390d2b88-e06d-47e...|    0|      70.0|     70.0|        2|   [Salão de festas]|      2|     0|   1|          Praça Seca|  Zona Oeste|  420000.0|   0.0|159000.0|\n",
            "+--------------------+-----+----------+---------+---------+--------------------+-------+------+----+--------------------+------------+----------+------+--------+\n",
            "only showing top 10 rows\n",
            "\n"
          ]
        }
      ]
    },
    {
      "cell_type": "markdown",
      "source": [
        "# Preparação dos dados para machine learning"
      ],
      "metadata": {
        "id": "yTzZN4gBge-N"
      }
    },
    {
      "cell_type": "markdown",
      "source": [
        "## Coluna dummies"
      ],
      "metadata": {
        "id": "Ds7GIB3Dhdfq"
      }
    },
    {
      "cell_type": "code",
      "source": [
        "# os dados presentes nos arrays da coluna são:\n",
        "\n",
        "caracteristicas = data.select(explode('caracteristicas').alias('caracteristicas')).distinct()\n",
        "caracteristicas.show()"
      ],
      "metadata": {
        "colab": {
          "base_uri": "https://localhost:8080/"
        },
        "id": "KNKVOzff67_2",
        "outputId": "0d3f9296-40d7-4e91-9395-c8b922a732a2"
      },
      "execution_count": 61,
      "outputs": [
        {
          "output_type": "stream",
          "name": "stdout",
          "text": [
            "+------------------+\n",
            "|   caracteristicas|\n",
            "+------------------+\n",
            "|Condomínio fechado|\n",
            "|        Playground|\n",
            "| Portão eletrônico|\n",
            "|           Piscina|\n",
            "|Animais permitidos|\n",
            "|      Portaria 24h|\n",
            "|          Elevador|\n",
            "|          Academia|\n",
            "|   Salão de festas|\n",
            "|     Churrasqueira|\n",
            "+------------------+\n",
            "\n"
          ]
        }
      ]
    },
    {
      "cell_type": "code",
      "source": [
        "list_caracteristicas = [\n",
        "    'Condomínio fechado', 'Playground', 'Portão eletrônico',\n",
        "    'Piscina', 'Animais permitidos', 'Portaria 24h', 'Elevador',\n",
        "    'Academia', 'Salão de festas', 'Churrasqueira'\n",
        "]"
      ],
      "metadata": {
        "id": "D4Du1xivW9Iw"
      },
      "execution_count": 62,
      "outputs": []
    },
    {
      "cell_type": "code",
      "source": [
        "# dummies para as características do imóvel:\n",
        "\n",
        "for caracteristica in list_caracteristicas:\n",
        "  data = data.withColumn(caracteristica, when(array_contains(col(\"caracteristicas\"), caracteristica) == True, lit(1)).otherwise(0))"
      ],
      "metadata": {
        "id": "QvbN-TUc9WKk"
      },
      "execution_count": 63,
      "outputs": []
    },
    {
      "cell_type": "code",
      "source": [
        "# elimina-se a coluna caracteristicas do dataframe:\n",
        "\n",
        "data = data.drop('caracteristicas')"
      ],
      "metadata": {
        "id": "Vdq_1STl-7ag"
      },
      "execution_count": 64,
      "outputs": []
    },
    {
      "cell_type": "code",
      "source": [
        "data.columns"
      ],
      "metadata": {
        "id": "5y22KFCviG3K",
        "colab": {
          "base_uri": "https://localhost:8080/"
        },
        "outputId": "6344d53d-7e0e-47b5-c6df-5f44076166a6"
      },
      "execution_count": 65,
      "outputs": [
        {
          "output_type": "execute_result",
          "data": {
            "text/plain": [
              "['id',\n",
              " 'andar',\n",
              " 'area_total',\n",
              " 'area_util',\n",
              " 'banheiros',\n",
              " 'quartos',\n",
              " 'suites',\n",
              " 'vaga',\n",
              " 'bairro',\n",
              " 'zona',\n",
              " 'condominio',\n",
              " 'iptu',\n",
              " 'valor',\n",
              " 'Condomínio fechado',\n",
              " 'Playground',\n",
              " 'Portão eletrônico',\n",
              " 'Piscina',\n",
              " 'Animais permitidos',\n",
              " 'Portaria 24h',\n",
              " 'Elevador',\n",
              " 'Academia',\n",
              " 'Salão de festas',\n",
              " 'Churrasqueira']"
            ]
          },
          "metadata": {},
          "execution_count": 65
        }
      ]
    },
    {
      "cell_type": "markdown",
      "source": [
        "# Zona dummies"
      ],
      "metadata": {
        "id": "5c9h0_pDBH3s"
      }
    },
    {
      "cell_type": "code",
      "source": [
        "# as zonas presentes no dataframe:\n",
        "\n",
        "data.select('zona').distinct().show()"
      ],
      "metadata": {
        "colab": {
          "base_uri": "https://localhost:8080/"
        },
        "id": "nTKG4JETBGUR",
        "outputId": "a19b175a-f9b6-489b-e2b4-a41332ee30b7"
      },
      "execution_count": 66,
      "outputs": [
        {
          "output_type": "stream",
          "name": "stdout",
          "text": [
            "+------------+\n",
            "|        zona|\n",
            "+------------+\n",
            "|  Zona Norte|\n",
            "|  Zona Oeste|\n",
            "|Zona Central|\n",
            "|    Zona Sul|\n",
            "|            |\n",
            "+------------+\n",
            "\n"
          ]
        }
      ]
    },
    {
      "cell_type": "code",
      "source": [
        "# para gerar os dummies para a variável zona:\n",
        "\n",
        "zonas = data.groupBy('id').pivot('zona').agg(lit(1)).fillna(0)"
      ],
      "metadata": {
        "id": "fCjdHvRiBS5b"
      },
      "execution_count": 67,
      "outputs": []
    },
    {
      "cell_type": "code",
      "source": [
        "zonas = zonas.drop('')"
      ],
      "metadata": {
        "id": "HYppNyhBCbX_"
      },
      "execution_count": 68,
      "outputs": []
    },
    {
      "cell_type": "code",
      "source": [
        "zonas.show(5)"
      ],
      "metadata": {
        "colab": {
          "base_uri": "https://localhost:8080/"
        },
        "id": "9sdLLF4eBer2",
        "outputId": "a6c88665-177f-487b-820d-3026a6ae1bb8"
      },
      "execution_count": 69,
      "outputs": [
        {
          "output_type": "stream",
          "name": "stdout",
          "text": [
            "+--------------------+------------+----------+----------+--------+\n",
            "|                  id|Zona Central|Zona Norte|Zona Oeste|Zona Sul|\n",
            "+--------------------+------------+----------+----------+--------+\n",
            "|4e47e4d4-3326-4eb...|           0|         0|         0|       1|\n",
            "|02fba6ef-a691-442...|           0|         0|         1|       0|\n",
            "|fc03c1a9-8bbb-41a...|           0|         1|         0|       0|\n",
            "|3dd5d200-0a7f-43d...|           0|         0|         0|       1|\n",
            "|82707939-71bd-40c...|           0|         0|         0|       1|\n",
            "+--------------------+------------+----------+----------+--------+\n",
            "only showing top 5 rows\n",
            "\n"
          ]
        }
      ]
    },
    {
      "cell_type": "code",
      "source": [
        "# juntado esses dados ao dataframe:\n",
        "\n",
        "data = data.join(zonas, 'id', how= 'inner')"
      ],
      "metadata": {
        "id": "QsMSuPWaBl9P"
      },
      "execution_count": 70,
      "outputs": []
    },
    {
      "cell_type": "code",
      "source": [
        "# elimina-se a coluna zona:\n",
        "\n",
        "data = data.drop('zona')"
      ],
      "metadata": {
        "id": "irYACeVQCG_N"
      },
      "execution_count": 71,
      "outputs": []
    },
    {
      "cell_type": "code",
      "source": [
        "data.show(5)"
      ],
      "metadata": {
        "colab": {
          "base_uri": "https://localhost:8080/"
        },
        "id": "7fT829nwCW5P",
        "outputId": "2956e692-5951-446c-82b8-a4b62d42e8c8"
      },
      "execution_count": 72,
      "outputs": [
        {
          "output_type": "stream",
          "name": "stdout",
          "text": [
            "+--------------------+-----+----------+---------+---------+-------+------+----+------------+----------+------+--------+------------------+----------+-----------------+-------+------------------+------------+--------+--------+---------------+-------------+------------+----------+----------+--------+\n",
            "|                  id|andar|area_total|area_util|banheiros|quartos|suites|vaga|      bairro|condominio|  iptu|   valor|Condomínio fechado|Playground|Portão eletrônico|Piscina|Animais permitidos|Portaria 24h|Elevador|Academia|Salão de festas|Churrasqueira|Zona Central|Zona Norte|Zona Oeste|Zona Sul|\n",
            "+--------------------+-----+----------+---------+---------+-------+------+----+------------+----------+------+--------+------------------+----------+-----------------+-------+------------------+------------+--------+--------+---------------+-------------+------------+----------+----------+--------+\n",
            "|03a386b6-7ab8-4ef...|    0|      43.0|     43.0|        1|      2|     0|   1|    Realengo|     285.0|   0.0| 22999.0|                 1|         1|                1|      0|                 1|           1|       0|       1|              1|            1|           0|         0|         1|       0|\n",
            "|1fe78d41-b8e0-4d2...|    0|      44.0|     44.0|        1|      2|     0|   0|       Irajá|     170.0|   0.0|110000.0|                 0|         0|                0|      0|                 0|           0|       0|       0|              0|            0|           0|         1|         0|       0|\n",
            "|1fa1c1e5-e98c-433...|    4|       0.0|     55.0|        1|      2|     0|   1|      Cosmos|       0.0|   0.0|115000.0|                 0|         0|                0|      0|                 0|           0|       0|       0|              0|            0|           0|         0|         1|       0|\n",
            "|a6ab01ae-3d40-40e...|    2|       0.0|     55.0|        1|      2|     0|   0|Tomás Coelho|       0.0|   0.0|115000.0|                 0|         0|                0|      0|                 0|           0|       0|       0|              0|            0|           0|         1|         0|       0|\n",
            "|1d8ff7a2-16bd-4e3...|    0|       0.0|     50.0|        1|      1|     0|   0|      Centro|    1300.0|2679.0|125000.0|                 0|         0|                0|      0|                 0|           0|       0|       0|              0|            0|           1|         0|         0|       0|\n",
            "+--------------------+-----+----------+---------+---------+-------+------+----+------------+----------+------+--------+------------------+----------+-----------------+-------+------------------+------------+--------+--------+---------------+-------------+------------+----------+----------+--------+\n",
            "only showing top 5 rows\n",
            "\n"
          ]
        }
      ]
    },
    {
      "cell_type": "code",
      "source": [
        "# remove-se a coluna bairro:\n",
        "\n",
        "data = data.drop('bairro')"
      ],
      "metadata": {
        "id": "FfX6miQbNDG8"
      },
      "execution_count": 73,
      "outputs": []
    },
    {
      "cell_type": "markdown",
      "source": [
        "# Salvando a base de dados em formato parquet"
      ],
      "metadata": {
        "id": "xfZRu4vmGIAO"
      }
    },
    {
      "cell_type": "code",
      "source": [
        "data.columns"
      ],
      "metadata": {
        "colab": {
          "base_uri": "https://localhost:8080/"
        },
        "id": "3scFk90rGgZS",
        "outputId": "e1a119e6-e71f-46d0-bc56-e77273bcdc2c"
      },
      "execution_count": 74,
      "outputs": [
        {
          "output_type": "execute_result",
          "data": {
            "text/plain": [
              "['id',\n",
              " 'andar',\n",
              " 'area_total',\n",
              " 'area_util',\n",
              " 'banheiros',\n",
              " 'quartos',\n",
              " 'suites',\n",
              " 'vaga',\n",
              " 'condominio',\n",
              " 'iptu',\n",
              " 'valor',\n",
              " 'Condomínio fechado',\n",
              " 'Playground',\n",
              " 'Portão eletrônico',\n",
              " 'Piscina',\n",
              " 'Animais permitidos',\n",
              " 'Portaria 24h',\n",
              " 'Elevador',\n",
              " 'Academia',\n",
              " 'Salão de festas',\n",
              " 'Churrasqueira',\n",
              " 'Zona Central',\n",
              " 'Zona Norte',\n",
              " 'Zona Oeste',\n",
              " 'Zona Sul']"
            ]
          },
          "metadata": {},
          "execution_count": 74
        }
      ]
    },
    {
      "cell_type": "code",
      "source": [
        "# renomeando as novas colunas para que estejam adequadas ao formato parquet:\n",
        "\n",
        "data = data.withColumnRenamed('Condomínio fechado', 'condominio_fechado')\\\n",
        "        .withColumnRenamed('Playground', 'playground')\\\n",
        "        .withColumnRenamed('Portão eletrônico', 'portao_eletronico')\\\n",
        "        .withColumnRenamed('Piscina', 'piscina')\\\n",
        "        .withColumnRenamed('Animais permitidos', 'animais_permitidos')\\\n",
        "        .withColumnRenamed('Portaria 24h', 'portaria_24h')\\\n",
        "        .withColumnRenamed('Elevador', 'elevador')\\\n",
        "        .withColumnRenamed('Academia', 'academia')\\\n",
        "        .withColumnRenamed('Salão de festas', 'salao_de_festas')\\\n",
        "        .withColumnRenamed('Churrasqueira', 'churrasqueira')\\\n",
        "        .withColumnRenamed('Zona Central', 'zona_central')\\\n",
        "        .withColumnRenamed('Zona Norte', 'zona_norte')\\\n",
        "        .withColumnRenamed('Zona Oeste', 'zona_oeste')\\\n",
        "        .withColumnRenamed('Zona Sul', 'zona_sul')"
      ],
      "metadata": {
        "id": "hgMqDf_BHihw"
      },
      "execution_count": 75,
      "outputs": []
    },
    {
      "cell_type": "code",
      "source": [
        "data.write.parquet('dataset_imoveis_RJ')"
      ],
      "metadata": {
        "colab": {
          "base_uri": "https://localhost:8080/",
          "height": 311
        },
        "id": "davYQ943EZHD",
        "outputId": "22d34c37-0680-4204-9dd7-b117bf3e2220"
      },
      "execution_count": 76,
      "outputs": [
        {
          "output_type": "error",
          "ename": "AnalysisException",
          "evalue": "ignored",
          "traceback": [
            "\u001b[0;31m---------------------------------------------------------------------------\u001b[0m",
            "\u001b[0;31mAnalysisException\u001b[0m                         Traceback (most recent call last)",
            "\u001b[0;32m<ipython-input-76-2added43c3d8>\u001b[0m in \u001b[0;36m<module>\u001b[0;34m\u001b[0m\n\u001b[0;32m----> 1\u001b[0;31m \u001b[0mdata\u001b[0m\u001b[0;34m.\u001b[0m\u001b[0mwrite\u001b[0m\u001b[0;34m.\u001b[0m\u001b[0mparquet\u001b[0m\u001b[0;34m(\u001b[0m\u001b[0;34m'dataset_imoveis_RJ'\u001b[0m\u001b[0;34m)\u001b[0m\u001b[0;34m\u001b[0m\u001b[0;34m\u001b[0m\u001b[0m\n\u001b[0m",
            "\u001b[0;32m/content/spark-3.1.2-bin-hadoop2.7/python/pyspark/sql/readwriter.py\u001b[0m in \u001b[0;36mparquet\u001b[0;34m(self, path, mode, partitionBy, compression)\u001b[0m\n\u001b[1;32m   1248\u001b[0m             \u001b[0mself\u001b[0m\u001b[0;34m.\u001b[0m\u001b[0mpartitionBy\u001b[0m\u001b[0;34m(\u001b[0m\u001b[0mpartitionBy\u001b[0m\u001b[0;34m)\u001b[0m\u001b[0;34m\u001b[0m\u001b[0;34m\u001b[0m\u001b[0m\n\u001b[1;32m   1249\u001b[0m         \u001b[0mself\u001b[0m\u001b[0;34m.\u001b[0m\u001b[0m_set_opts\u001b[0m\u001b[0;34m(\u001b[0m\u001b[0mcompression\u001b[0m\u001b[0;34m=\u001b[0m\u001b[0mcompression\u001b[0m\u001b[0;34m)\u001b[0m\u001b[0;34m\u001b[0m\u001b[0;34m\u001b[0m\u001b[0m\n\u001b[0;32m-> 1250\u001b[0;31m         \u001b[0mself\u001b[0m\u001b[0;34m.\u001b[0m\u001b[0m_jwrite\u001b[0m\u001b[0;34m.\u001b[0m\u001b[0mparquet\u001b[0m\u001b[0;34m(\u001b[0m\u001b[0mpath\u001b[0m\u001b[0;34m)\u001b[0m\u001b[0;34m\u001b[0m\u001b[0;34m\u001b[0m\u001b[0m\n\u001b[0m\u001b[1;32m   1251\u001b[0m \u001b[0;34m\u001b[0m\u001b[0m\n\u001b[1;32m   1252\u001b[0m     \u001b[0;32mdef\u001b[0m \u001b[0mtext\u001b[0m\u001b[0;34m(\u001b[0m\u001b[0mself\u001b[0m\u001b[0;34m,\u001b[0m \u001b[0mpath\u001b[0m\u001b[0;34m,\u001b[0m \u001b[0mcompression\u001b[0m\u001b[0;34m=\u001b[0m\u001b[0;32mNone\u001b[0m\u001b[0;34m,\u001b[0m \u001b[0mlineSep\u001b[0m\u001b[0;34m=\u001b[0m\u001b[0;32mNone\u001b[0m\u001b[0;34m)\u001b[0m\u001b[0;34m:\u001b[0m\u001b[0;34m\u001b[0m\u001b[0;34m\u001b[0m\u001b[0m\n",
            "\u001b[0;32m/content/spark-3.1.2-bin-hadoop2.7/python/lib/py4j-0.10.9-src.zip/py4j/java_gateway.py\u001b[0m in \u001b[0;36m__call__\u001b[0;34m(self, *args)\u001b[0m\n\u001b[1;32m   1302\u001b[0m \u001b[0;34m\u001b[0m\u001b[0m\n\u001b[1;32m   1303\u001b[0m         \u001b[0manswer\u001b[0m \u001b[0;34m=\u001b[0m \u001b[0mself\u001b[0m\u001b[0;34m.\u001b[0m\u001b[0mgateway_client\u001b[0m\u001b[0;34m.\u001b[0m\u001b[0msend_command\u001b[0m\u001b[0;34m(\u001b[0m\u001b[0mcommand\u001b[0m\u001b[0;34m)\u001b[0m\u001b[0;34m\u001b[0m\u001b[0;34m\u001b[0m\u001b[0m\n\u001b[0;32m-> 1304\u001b[0;31m         return_value = get_return_value(\n\u001b[0m\u001b[1;32m   1305\u001b[0m             answer, self.gateway_client, self.target_id, self.name)\n\u001b[1;32m   1306\u001b[0m \u001b[0;34m\u001b[0m\u001b[0m\n",
            "\u001b[0;32m/content/spark-3.1.2-bin-hadoop2.7/python/pyspark/sql/utils.py\u001b[0m in \u001b[0;36mdeco\u001b[0;34m(*a, **kw)\u001b[0m\n\u001b[1;32m    115\u001b[0m                 \u001b[0;31m# Hide where the exception came from that shows a non-Pythonic\u001b[0m\u001b[0;34m\u001b[0m\u001b[0;34m\u001b[0m\u001b[0;34m\u001b[0m\u001b[0m\n\u001b[1;32m    116\u001b[0m                 \u001b[0;31m# JVM exception message.\u001b[0m\u001b[0;34m\u001b[0m\u001b[0;34m\u001b[0m\u001b[0;34m\u001b[0m\u001b[0m\n\u001b[0;32m--> 117\u001b[0;31m                 \u001b[0;32mraise\u001b[0m \u001b[0mconverted\u001b[0m \u001b[0;32mfrom\u001b[0m \u001b[0;32mNone\u001b[0m\u001b[0;34m\u001b[0m\u001b[0;34m\u001b[0m\u001b[0m\n\u001b[0m\u001b[1;32m    118\u001b[0m             \u001b[0;32melse\u001b[0m\u001b[0;34m:\u001b[0m\u001b[0;34m\u001b[0m\u001b[0;34m\u001b[0m\u001b[0m\n\u001b[1;32m    119\u001b[0m                 \u001b[0;32mraise\u001b[0m\u001b[0;34m\u001b[0m\u001b[0;34m\u001b[0m\u001b[0m\n",
            "\u001b[0;31mAnalysisException\u001b[0m: path file:/content/dataset_imoveis_RJ already exists."
          ]
        }
      ]
    },
    {
      "cell_type": "markdown",
      "source": [
        "# Vetorização dos dados"
      ],
      "metadata": {
        "id": "CCFMlGP0Jkp0"
      }
    },
    {
      "cell_type": "code",
      "source": [
        "from pyspark.ml.feature import VectorAssembler"
      ],
      "metadata": {
        "id": "mIo7SUczLvIQ"
      },
      "execution_count": 77,
      "outputs": []
    },
    {
      "cell_type": "code",
      "source": [
        "features = ['andar', 'area_total', 'area_util', 'banheiros', 'quartos', 'suites', 'vaga',\n",
        "            'condominio', 'iptu', 'valor', 'condominio_fechado', 'playground', 'portao_eletronico',\n",
        "            'piscina', 'animais_permitidos', 'portaria_24h', 'elevador', 'academia', 'salao_de_festas',\n",
        "            'churrasqueira', 'zona_central', 'zona_norte', 'zona_oeste', 'zona_sul']"
      ],
      "metadata": {
        "id": "KfeYrmbiGZP8"
      },
      "execution_count": 78,
      "outputs": []
    },
    {
      "cell_type": "code",
      "source": [
        "assembler = VectorAssembler(inputCols= features, outputCol= 'features')"
      ],
      "metadata": {
        "id": "ZN89gmszMZpw"
      },
      "execution_count": 79,
      "outputs": []
    },
    {
      "cell_type": "code",
      "source": [
        "output = assembler.transform(data)"
      ],
      "metadata": {
        "id": "Pwogv3EjMyAv"
      },
      "execution_count": 80,
      "outputs": []
    },
    {
      "cell_type": "code",
      "source": [
        "output = output.select('features', 'valor').withColumnRenamed('valor', 'values')\n"
      ],
      "metadata": {
        "id": "h86MVgnkM4ou"
      },
      "execution_count": 81,
      "outputs": []
    },
    {
      "cell_type": "code",
      "source": [
        "output.show(5, truncate= False)"
      ],
      "metadata": {
        "colab": {
          "base_uri": "https://localhost:8080/"
        },
        "id": "kOPu2STcNU_z",
        "outputId": "dcadf86a-ad87-4eee-a39d-16e42144f88a"
      },
      "execution_count": 82,
      "outputs": [
        {
          "output_type": "stream",
          "name": "stdout",
          "text": [
            "+---------------------------------------------------------------------------------------------------------+--------+\n",
            "|features                                                                                                 |values  |\n",
            "+---------------------------------------------------------------------------------------------------------+--------+\n",
            "|[0.0,43.0,43.0,1.0,2.0,0.0,1.0,285.0,0.0,22999.0,1.0,1.0,1.0,0.0,1.0,1.0,0.0,1.0,1.0,1.0,0.0,0.0,1.0,0.0]|22999.0 |\n",
            "|(24,[1,2,3,4,7,9,21],[44.0,44.0,1.0,2.0,170.0,110000.0,1.0])                                             |110000.0|\n",
            "|(24,[0,2,3,4,6,9,22],[4.0,55.0,1.0,2.0,1.0,115000.0,1.0])                                                |115000.0|\n",
            "|(24,[0,2,3,4,9,21],[2.0,55.0,1.0,2.0,115000.0,1.0])                                                      |115000.0|\n",
            "|(24,[2,3,4,7,8,9,20],[50.0,1.0,1.0,1300.0,2679.0,125000.0,1.0])                                          |125000.0|\n",
            "+---------------------------------------------------------------------------------------------------------+--------+\n",
            "only showing top 5 rows\n",
            "\n"
          ]
        }
      ]
    },
    {
      "cell_type": "markdown",
      "source": [
        "# Modelo de regressão linear"
      ],
      "metadata": {
        "id": "m5WQ07ftTG-5"
      }
    },
    {
      "cell_type": "code",
      "source": [
        "from pyspark.ml.regression import LinearRegression"
      ],
      "metadata": {
        "id": "ylQaEBkvUKNv"
      },
      "execution_count": 83,
      "outputs": []
    },
    {
      "cell_type": "code",
      "source": [
        "# definindo os dados de treinamento e teste:\n",
        "\n",
        "train_data, test_data = output.randomSplit([0.7, 0.3], seed= 101)"
      ],
      "metadata": {
        "id": "bDcE-QqYPPVL"
      },
      "execution_count": 84,
      "outputs": []
    },
    {
      "cell_type": "code",
      "source": [
        "# modelo:\n",
        "\n",
        "regressor = LinearRegression(featuresCol= 'features', labelCol= 'values')\n",
        "regressor = regressor.fit(train_data)"
      ],
      "metadata": {
        "id": "gQpvGCP5Uy6L"
      },
      "execution_count": 85,
      "outputs": []
    },
    {
      "cell_type": "code",
      "source": [
        "# predições treino:\n",
        "\n",
        "pred_train_data = regressor.evaluate(train_data)\n",
        "pred_train_data.predictions.show(5)"
      ],
      "metadata": {
        "colab": {
          "base_uri": "https://localhost:8080/"
        },
        "id": "a9WRWXQ5abKk",
        "outputId": "33a81380-3cf0-425c-ee02-9044c0ed9b58"
      },
      "execution_count": 86,
      "outputs": [
        {
          "output_type": "stream",
          "name": "stdout",
          "text": [
            "+--------------------+---------+-----------------+\n",
            "|            features|   values|       prediction|\n",
            "+--------------------+---------+-----------------+\n",
            "|(24,[0,1,2,3,4,5,...| 690000.0|690000.0000000001|\n",
            "|(24,[0,1,2,3,4,5,...|2850000.0|        2850000.0|\n",
            "|(24,[0,1,2,3,4,5,...|3250000.0|        3250000.0|\n",
            "|(24,[0,1,2,3,4,5,...|4140000.0|        4140000.0|\n",
            "|(24,[0,1,2,3,4,5,...|1600000.0|        1600000.0|\n",
            "+--------------------+---------+-----------------+\n",
            "only showing top 5 rows\n",
            "\n"
          ]
        }
      ]
    },
    {
      "cell_type": "code",
      "source": [
        "# predições teste:\n",
        "\n",
        "pred_test_data = regressor.evaluate(test_data)\n",
        "pred_test_data.predictions.show(5)"
      ],
      "metadata": {
        "colab": {
          "base_uri": "https://localhost:8080/"
        },
        "id": "e0tbGc18VQ5F",
        "outputId": "916e7ce8-2f60-4670-94fe-a4717ec87272"
      },
      "execution_count": 87,
      "outputs": [
        {
          "output_type": "stream",
          "name": "stdout",
          "text": [
            "+--------------------+---------+------------------+\n",
            "|            features|   values|        prediction|\n",
            "+--------------------+---------+------------------+\n",
            "|(24,[0,1,2,3,4,5,...|4090000.0|         4090000.0|\n",
            "|(24,[0,1,2,3,4,5,...|6900000.0|         6900000.0|\n",
            "|(24,[0,1,2,3,4,5,...| 340000.0|340000.00000000006|\n",
            "|(24,[0,1,2,3,4,5,...| 350000.0| 350000.0000000001|\n",
            "|(24,[0,1,2,3,4,5,...| 340000.0|340000.00000000006|\n",
            "+--------------------+---------+------------------+\n",
            "only showing top 5 rows\n",
            "\n"
          ]
        }
      ]
    },
    {
      "cell_type": "markdown",
      "source": [
        "# Avaliação do modelo de regressão linear"
      ],
      "metadata": {
        "id": "-7RkHaEfV36K"
      }
    },
    {
      "cell_type": "markdown",
      "source": [
        "## Treino"
      ],
      "metadata": {
        "id": "9CrM4MaZbFew"
      }
    },
    {
      "cell_type": "markdown",
      "source": [
        "### RMSE"
      ],
      "metadata": {
        "id": "Xac5tcqWWsaL"
      }
    },
    {
      "cell_type": "code",
      "source": [
        "f'RMSE para os dados de treino: {pred_train_data.rootMeanSquaredError}'"
      ],
      "metadata": {
        "colab": {
          "base_uri": "https://localhost:8080/",
          "height": 35
        },
        "id": "B0mAh4OcVkhi",
        "outputId": "391c2dfb-b52e-42be-9e71-c276bff20a1e"
      },
      "execution_count": 88,
      "outputs": [
        {
          "output_type": "execute_result",
          "data": {
            "text/plain": [
              "'RMSE para os dados de treino: 4.781645837595479e-10'"
            ],
            "application/vnd.google.colaboratory.intrinsic+json": {
              "type": "string"
            }
          },
          "metadata": {},
          "execution_count": 88
        }
      ]
    },
    {
      "cell_type": "markdown",
      "source": [
        "### R²"
      ],
      "metadata": {
        "id": "d90xBlnwZnEq"
      }
    },
    {
      "cell_type": "code",
      "source": [
        "f'R² para os dados de treino: {pred_train_data.r2}'"
      ],
      "metadata": {
        "colab": {
          "base_uri": "https://localhost:8080/",
          "height": 35
        },
        "id": "a9WnQPtrXdLS",
        "outputId": "15386aa5-c892-4406-ce60-03849ce7ce96"
      },
      "execution_count": 89,
      "outputs": [
        {
          "output_type": "execute_result",
          "data": {
            "text/plain": [
              "'R² para os dados de treino: 1.0'"
            ],
            "application/vnd.google.colaboratory.intrinsic+json": {
              "type": "string"
            }
          },
          "metadata": {},
          "execution_count": 89
        }
      ]
    },
    {
      "cell_type": "markdown",
      "source": [
        "## Teste"
      ],
      "metadata": {
        "id": "U3qPKEAPbNaA"
      }
    },
    {
      "cell_type": "code",
      "source": [
        "f'RMSE para os dados de teste: {pred_test_data.rootMeanSquaredError}'"
      ],
      "metadata": {
        "colab": {
          "base_uri": "https://localhost:8080/",
          "height": 35
        },
        "id": "avtShxGcY7fy",
        "outputId": "dc49a2dc-9af2-4b0a-9670-95acca60bdb6"
      },
      "execution_count": 90,
      "outputs": [
        {
          "output_type": "execute_result",
          "data": {
            "text/plain": [
              "'RMSE para os dados de teste: 1.569062946646895e-10'"
            ],
            "application/vnd.google.colaboratory.intrinsic+json": {
              "type": "string"
            }
          },
          "metadata": {},
          "execution_count": 90
        }
      ]
    },
    {
      "cell_type": "code",
      "source": [
        "f'R² para os dados de teste: {pred_test_data.r2}'"
      ],
      "metadata": {
        "colab": {
          "base_uri": "https://localhost:8080/",
          "height": 35
        },
        "id": "Jba22sxkZ5e6",
        "outputId": "c7b4ef9e-a19e-4d73-93c7-e04e33afb20d"
      },
      "execution_count": 91,
      "outputs": [
        {
          "output_type": "execute_result",
          "data": {
            "text/plain": [
              "'R² para os dados de teste: 1.0'"
            ],
            "application/vnd.google.colaboratory.intrinsic+json": {
              "type": "string"
            }
          },
          "metadata": {},
          "execution_count": 91
        }
      ]
    },
    {
      "cell_type": "markdown",
      "source": [
        "# Análise de correlação"
      ],
      "metadata": {
        "id": "reI9UzNifl1L"
      }
    },
    {
      "cell_type": "code",
      "source": [
        "from pyspark.ml.stat import Correlation\n",
        "import pandas as pd"
      ],
      "metadata": {
        "id": "hE4mUMx7bZuL"
      },
      "execution_count": 92,
      "outputs": []
    },
    {
      "cell_type": "code",
      "source": [
        "correlation = Correlation.corr(output, 'features').collect()[0][0]"
      ],
      "metadata": {
        "id": "fKhRZJyGgL7P"
      },
      "execution_count": 93,
      "outputs": []
    },
    {
      "cell_type": "code",
      "source": [
        "df_correlation = pd.DataFrame(correlation.toArray(), columns= features, index= features)"
      ],
      "metadata": {
        "id": "AUbbRSYwglHl"
      },
      "execution_count": 94,
      "outputs": []
    },
    {
      "cell_type": "code",
      "source": [
        "import matplotlib.pyplot as plt\n",
        "import seaborn as sns"
      ],
      "metadata": {
        "id": "pHGVAgQWgprH"
      },
      "execution_count": 95,
      "outputs": []
    },
    {
      "cell_type": "code",
      "source": [
        "colors = sns.color_palette(\"light:orange\", as_cmap=True)"
      ],
      "metadata": {
        "id": "6SURENURhjf8"
      },
      "execution_count": 100,
      "outputs": []
    },
    {
      "cell_type": "code",
      "source": [
        "plt.figure(figsize= (16, 12))\n",
        "sns.heatmap(df_correlation.round(2), annot= True, cmap= colors)\n",
        "plt.show()"
      ],
      "metadata": {
        "colab": {
          "base_uri": "https://localhost:8080/",
          "height": 797
        },
        "id": "C3QXuNZ9hE-g",
        "outputId": "b4174b3e-3def-4c9a-8226-e27edfbfd232"
      },
      "execution_count": 101,
      "outputs": [
        {
          "output_type": "display_data",
          "data": {
            "text/plain": [
              "<Figure size 1152x864 with 2 Axes>"
            ],
            "image/png": "[encoded data removed]"
          },
          "metadata": {
            "needs_background": "light"
          }
        }
      ]
    },
    {
      "cell_type": "markdown",
      "source": [
        "# Modelo de regressão com GBTRegressor"
      ],
      "metadata": {
        "id": "BIVMcoekOiTh"
      }
    },
    {
      "cell_type": "code",
      "source": [
        "from pyspark.ml.regression import GBTRegressor\n",
        "from pyspark.ml.evaluation import RegressionEvaluator"
      ],
      "metadata": {
        "id": "-qQRztVXhfb1"
      },
      "execution_count": 105,
      "outputs": []
    },
    {
      "cell_type": "code",
      "source": [
        "gbtr = GBTRegressor(featuresCol= 'features', labelCol= 'values')\n",
        "gbtr = gbtr.fit(train_data)"
      ],
      "metadata": {
        "id": "fNRKudaRPnXR"
      },
      "execution_count": 106,
      "outputs": []
    },
    {
      "cell_type": "code",
      "source": [
        "mdata = gbtr.transform(test_data)\n",
        "mdata.show(5)"
      ],
      "metadata": {
        "colab": {
          "base_uri": "https://localhost:8080/"
        },
        "id": "i4wlx4s-P8Jf",
        "outputId": "d2ac0075-4e64-48ab-c052-4b4e6ac649b0"
      },
      "execution_count": 107,
      "outputs": [
        {
          "output_type": "stream",
          "name": "stdout",
          "text": [
            "+--------------------+---------+------------------+\n",
            "|            features|   values|        prediction|\n",
            "+--------------------+---------+------------------+\n",
            "|(24,[0,1,2,3,4,5,...|4090000.0|4153144.1908954117|\n",
            "|(24,[0,1,2,3,4,5,...|6900000.0|  6342562.62290589|\n",
            "|(24,[0,1,2,3,4,5,...| 340000.0|312446.05268566596|\n",
            "|(24,[0,1,2,3,4,5,...| 350000.0|310885.58333308593|\n",
            "|(24,[0,1,2,3,4,5,...| 340000.0|312446.05268566596|\n",
            "+--------------------+---------+------------------+\n",
            "only showing top 5 rows\n",
            "\n"
          ]
        }
      ]
    },
    {
      "cell_type": "code",
      "source": [
        "rmse = RegressionEvaluator(labelCol= 'values', predictionCol= 'prediction', metricName= 'rmse')\n",
        "f'O RMSE para este modelo é de: {rmse.evaluate(mdata)}'"
      ],
      "metadata": {
        "colab": {
          "base_uri": "https://localhost:8080/",
          "height": 35
        },
        "id": "c6yMRs1TQv6X",
        "outputId": "480fabb5-b6e7-4add-9bf0-9dd546821398"
      },
      "execution_count": 108,
      "outputs": [
        {
          "output_type": "execute_result",
          "data": {
            "text/plain": [
              "'O RMSE para este modelo é de: 333024.08227636985'"
            ],
            "application/vnd.google.colaboratory.intrinsic+json": {
              "type": "string"
            }
          },
          "metadata": {},
          "execution_count": 108
        }
      ]
    },
    {
      "cell_type": "code",
      "source": [
        "r2 = RegressionEvaluator(labelCol= 'values', predictionCol= 'prediction', metricName= 'r2')\n",
        "f'O RMSE para este modelo é de: {r2.evaluate(mdata)}'"
      ],
      "metadata": {
        "colab": {
          "base_uri": "https://localhost:8080/",
          "height": 35
        },
        "id": "Hyb5vkA_RLBO",
        "outputId": "983bfafe-10ef-44fe-ac6c-8959906e9aba"
      },
      "execution_count": 109,
      "outputs": [
        {
          "output_type": "execute_result",
          "data": {
            "text/plain": [
              "'O RMSE para este modelo é de: 0.9499329659794418'"
            ],
            "application/vnd.google.colaboratory.intrinsic+json": {
              "type": "string"
            }
          },
          "metadata": {},
          "execution_count": 109
        }
      ]
    }
  ]
}