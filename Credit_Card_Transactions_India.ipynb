{
  "nbformat": 4,
  "nbformat_minor": 0,
  "metadata": {
    "colab": {
      "provenance": [],
      "mount_file_id": "1FrYw9zyHJbXB0lCWHFa97i2o6lNQDCXW",
      "authorship_tag": "ABX9TyO8lX/6oS6TSVmHMU8Tkyu1",
      "include_colab_link": true
    },
    "kernelspec": {
      "name": "python3",
      "display_name": "Python 3"
    },
    "language_info": {
      "name": "python"
    }
  },
  "cells": [
    {
      "cell_type": "markdown",
      "metadata": {
        "id": "view-in-github",
        "colab_type": "text"
      },
      "source": [
        "<a href=\"https://colab.research.google.com/github/DamodaraBarbosa/DamodaraBarbosa/blob/main/Credit_Card_Transactions_India.ipynb\" target=\"_parent\"><img src=\"https://colab.research.google.com/assets/colab-badge.svg\" alt=\"Open In Colab\"/></a>"
      ]
    },
    {
      "cell_type": "markdown",
      "source": [
        "Importando as bibliotecas "
      ],
      "metadata": {
        "id": "s8CLBegvEKEZ"
      }
    },
    {
      "cell_type": "code",
      "execution_count": 1,
      "metadata": {
        "id": "dvXJl_RADmTQ"
      },
      "outputs": [],
      "source": [
        "import pandas as pd\n",
        "import numpy as np\n",
        "import matplotlib.pyplot as plt\n",
        "import seaborn as sns"
      ]
    },
    {
      "cell_type": "code",
      "source": [
        "sns.set()"
      ],
      "metadata": {
        "id": "rPjR4Q1RES2I"
      },
      "execution_count": 2,
      "outputs": []
    },
    {
      "cell_type": "markdown",
      "source": [
        "# Carregando os dados em um dataframe"
      ],
      "metadata": {
        "id": "qQnmT7F5EZYa"
      }
    },
    {
      "cell_type": "code",
      "source": [
        "data = pd.read_csv('/content/drive/MyDrive/Kaggle/Credit card transactions - India - Simple.csv')\n",
        "data.drop('index', axis= 1, inplace= True)\n",
        "data.head()"
      ],
      "metadata": {
        "colab": {
          "base_uri": "https://localhost:8080/",
          "height": 206
        },
        "id": "xyVFevT6EYE6",
        "outputId": "ddd975ca-e2bd-44a1-a766-78df49107856"
      },
      "execution_count": 3,
      "outputs": [
        {
          "output_type": "execute_result",
          "data": {
            "text/plain": [
              "                    City       Date  Card Type Exp Type Gender  Amount\n",
              "0           Delhi, India  29-Oct-14       Gold    Bills      F   82475\n",
              "1  Greater Mumbai, India  22-Aug-14   Platinum    Bills      F   32555\n",
              "2       Bengaluru, India  27-Aug-14     Silver    Bills      F  101738\n",
              "3  Greater Mumbai, India  12-Apr-14  Signature    Bills      F  123424\n",
              "4       Bengaluru, India   5-May-15       Gold    Bills      F  171574"
            ],
            "text/html": [
              "\n",
              "  <div id=\"df-d4bbf15b-9de0-45de-aad4-80794ab37549\">\n",
              "    <div class=\"colab-df-container\">\n",
              "      <div>\n",
              "<style scoped>\n",
              "    .dataframe tbody tr th:only-of-type {\n",
              "        vertical-align: middle;\n",
              "    }\n",
              "\n",
              "    .dataframe tbody tr th {\n",
              "        vertical-align: top;\n",
              "    }\n",
              "\n",
              "    .dataframe thead th {\n",
              "        text-align: right;\n",
              "    }\n",
              "</style>\n",
              "<table border=\"1\" class=\"dataframe\">\n",
              "  <thead>\n",
              "    <tr style=\"text-align: right;\">\n",
              "      <th></th>\n",
              "      <th>City</th>\n",
              "      <th>Date</th>\n",
              "      <th>Card Type</th>\n",
              "      <th>Exp Type</th>\n",
              "      <th>Gender</th>\n",
              "      <th>Amount</th>\n",
              "    </tr>\n",
              "  </thead>\n",
              "  <tbody>\n",
              "    <tr>\n",
              "      <th>0</th>\n",
              "      <td>Delhi, India</td>\n",
              "      <td>29-Oct-14</td>\n",
              "      <td>Gold</td>\n",
              "      <td>Bills</td>\n",
              "      <td>F</td>\n",
              "      <td>82475</td>\n",
              "    </tr>\n",
              "    <tr>\n",
              "      <th>1</th>\n",
              "      <td>Greater Mumbai, India</td>\n",
              "      <td>22-Aug-14</td>\n",
              "      <td>Platinum</td>\n",
              "      <td>Bills</td>\n",
              "      <td>F</td>\n",
              "      <td>32555</td>\n",
              "    </tr>\n",
              "    <tr>\n",
              "      <th>2</th>\n",
              "      <td>Bengaluru, India</td>\n",
              "      <td>27-Aug-14</td>\n",
              "      <td>Silver</td>\n",
              "      <td>Bills</td>\n",
              "      <td>F</td>\n",
              "      <td>101738</td>\n",
              "    </tr>\n",
              "    <tr>\n",
              "      <th>3</th>\n",
              "      <td>Greater Mumbai, India</td>\n",
              "      <td>12-Apr-14</td>\n",
              "      <td>Signature</td>\n",
              "      <td>Bills</td>\n",
              "      <td>F</td>\n",
              "      <td>123424</td>\n",
              "    </tr>\n",
              "    <tr>\n",
              "      <th>4</th>\n",
              "      <td>Bengaluru, India</td>\n",
              "      <td>5-May-15</td>\n",
              "      <td>Gold</td>\n",
              "      <td>Bills</td>\n",
              "      <td>F</td>\n",
              "      <td>171574</td>\n",
              "    </tr>\n",
              "  </tbody>\n",
              "</table>\n",
              "</div>\n",
              "      <button class=\"colab-df-convert\" onclick=\"convertToInteractive('df-d4bbf15b-9de0-45de-aad4-80794ab37549')\"\n",
              "              title=\"Convert this dataframe to an interactive table.\"\n",
              "              style=\"display:none;\">\n",
              "        \n",
              "  <svg xmlns=\"http://www.w3.org/2000/svg\" height=\"24px\"viewBox=\"0 0 24 24\"\n",
              "       width=\"24px\">\n",
              "    <path d=\"M0 0h24v24H0V0z\" fill=\"none\"/>\n",
              "    <path d=\"M18.56 5.44l.94 2.06.94-2.06 2.06-.94-2.06-.94-.94-2.06-.94 2.06-2.06.94zm-11 1L8.5 8.5l.94-2.06 2.06-.94-2.06-.94L8.5 2.5l-.94 2.06-2.06.94zm10 10l.94 2.06.94-2.06 2.06-.94-2.06-.94-.94-2.06-.94 2.06-2.06.94z\"/><path d=\"M17.41 7.96l-1.37-1.37c-.4-.4-.92-.59-1.43-.59-.52 0-1.04.2-1.43.59L10.3 9.45l-7.72 7.72c-.78.78-.78 2.05 0 2.83L4 21.41c.39.39.9.59 1.41.59.51 0 1.02-.2 1.41-.59l7.78-7.78 2.81-2.81c.8-.78.8-2.07 0-2.86zM5.41 20L4 18.59l7.72-7.72 1.47 1.35L5.41 20z\"/>\n",
              "  </svg>\n",
              "      </button>\n",
              "      \n",
              "  <style>\n",
              "    .colab-df-container {\n",
              "      display:flex;\n",
              "      flex-wrap:wrap;\n",
              "      gap: 12px;\n",
              "    }\n",
              "\n",
              "    .colab-df-convert {\n",
              "      background-color: #E8F0FE;\n",
              "      border: none;\n",
              "      border-radius: 50%;\n",
              "      cursor: pointer;\n",
              "      display: none;\n",
              "      fill: #1967D2;\n",
              "      height: 32px;\n",
              "      padding: 0 0 0 0;\n",
              "      width: 32px;\n",
              "    }\n",
              "\n",
              "    .colab-df-convert:hover {\n",
              "      background-color: #E2EBFA;\n",
              "      box-shadow: 0px 1px 2px rgba(60, 64, 67, 0.3), 0px 1px 3px 1px rgba(60, 64, 67, 0.15);\n",
              "      fill: #174EA6;\n",
              "    }\n",
              "\n",
              "    [theme=dark] .colab-df-convert {\n",
              "      background-color: #3B4455;\n",
              "      fill: #D2E3FC;\n",
              "    }\n",
              "\n",
              "    [theme=dark] .colab-df-convert:hover {\n",
              "      background-color: #434B5C;\n",
              "      box-shadow: 0px 1px 3px 1px rgba(0, 0, 0, 0.15);\n",
              "      filter: drop-shadow(0px 1px 2px rgba(0, 0, 0, 0.3));\n",
              "      fill: #FFFFFF;\n",
              "    }\n",
              "  </style>\n",
              "\n",
              "      <script>\n",
              "        const buttonEl =\n",
              "          document.querySelector('#df-d4bbf15b-9de0-45de-aad4-80794ab37549 button.colab-df-convert');\n",
              "        buttonEl.style.display =\n",
              "          google.colab.kernel.accessAllowed ? 'block' : 'none';\n",
              "\n",
              "        async function convertToInteractive(key) {\n",
              "          const element = document.querySelector('#df-d4bbf15b-9de0-45de-aad4-80794ab37549');\n",
              "          const dataTable =\n",
              "            await google.colab.kernel.invokeFunction('convertToInteractive',\n",
              "                                                     [key], {});\n",
              "          if (!dataTable) return;\n",
              "\n",
              "          const docLinkHtml = 'Like what you see? Visit the ' +\n",
              "            '<a target=\"_blank\" href=https://colab.research.google.com/notebooks/data_table.ipynb>data table notebook</a>'\n",
              "            + ' to learn more about interactive tables.';\n",
              "          element.innerHTML = '';\n",
              "          dataTable['output_type'] = 'display_data';\n",
              "          await google.colab.output.renderOutput(dataTable, element);\n",
              "          const docLink = document.createElement('div');\n",
              "          docLink.innerHTML = docLinkHtml;\n",
              "          element.appendChild(docLink);\n",
              "        }\n",
              "      </script>\n",
              "    </div>\n",
              "  </div>\n",
              "  "
            ]
          },
          "metadata": {},
          "execution_count": 3
        }
      ]
    },
    {
      "cell_type": "markdown",
      "source": [
        "## Algumas informações sobre o dataset"
      ],
      "metadata": {
        "id": "4A91q4-8EngX"
      }
    },
    {
      "cell_type": "markdown",
      "source": [
        "* Suas dimensões:"
      ],
      "metadata": {
        "id": "gNPfSe22EsbW"
      }
    },
    {
      "cell_type": "code",
      "source": [
        "f'O dataset contém {data.shape[0]} linhas em {data.shape[1]} colunas.'"
      ],
      "metadata": {
        "colab": {
          "base_uri": "https://localhost:8080/",
          "height": 35
        },
        "id": "OcLv87fLETaj",
        "outputId": "dc71f568-39dd-4411-99fb-f3df3e69db42"
      },
      "execution_count": 4,
      "outputs": [
        {
          "output_type": "execute_result",
          "data": {
            "text/plain": [
              "'O dataset contém 26052 linhas em 6 colunas.'"
            ],
            "application/vnd.google.colaboratory.intrinsic+json": {
              "type": "string"
            }
          },
          "metadata": {},
          "execution_count": 4
        }
      ]
    },
    {
      "cell_type": "markdown",
      "source": [
        "* Colunas e dados faltantes:"
      ],
      "metadata": {
        "id": "ZPqlk8NUE2AK"
      }
    },
    {
      "cell_type": "code",
      "source": [
        "data.info()"
      ],
      "metadata": {
        "colab": {
          "base_uri": "https://localhost:8080/"
        },
        "id": "_KTIvvs4E0Zl",
        "outputId": "c2c8cc51-57b7-40f3-d0b9-205a82a85dba"
      },
      "execution_count": 5,
      "outputs": [
        {
          "output_type": "stream",
          "name": "stdout",
          "text": [
            "<class 'pandas.core.frame.DataFrame'>\n",
            "RangeIndex: 26052 entries, 0 to 26051\n",
            "Data columns (total 6 columns):\n",
            " #   Column     Non-Null Count  Dtype \n",
            "---  ------     --------------  ----- \n",
            " 0   City       26052 non-null  object\n",
            " 1   Date       26052 non-null  object\n",
            " 2   Card Type  26052 non-null  object\n",
            " 3   Exp Type   26052 non-null  object\n",
            " 4   Gender     26052 non-null  object\n",
            " 5   Amount     26052 non-null  int64 \n",
            "dtypes: int64(1), object(5)\n",
            "memory usage: 1.2+ MB\n"
          ]
        }
      ]
    },
    {
      "cell_type": "markdown",
      "source": [
        "Não há dado faltante!"
      ],
      "metadata": {
        "id": "VjLS5UJkE8AA"
      }
    },
    {
      "cell_type": "markdown",
      "source": [
        "# Tratamentos no dataset"
      ],
      "metadata": {
        "id": "E05vd6feIxMh"
      }
    },
    {
      "cell_type": "markdown",
      "source": [
        "## Coluna `City`"
      ],
      "metadata": {
        "id": "B24CFFC8I0_8"
      }
    },
    {
      "cell_type": "markdown",
      "source": [
        "Aparentemente todos os dados da variável `City` contém informação do país, que é a Índia. Como é algo que é especificado no *dataset* também algo que não precisa estar presente nos dados. Portanto, pode ser removido."
      ],
      "metadata": {
        "id": "dEt1XKI-JBGx"
      }
    },
    {
      "cell_type": "code",
      "source": [
        "len(data.loc[data['City'].str.contains('India') == True])"
      ],
      "metadata": {
        "colab": {
          "base_uri": "https://localhost:8080/"
        },
        "id": "NHdb2i1JIwzi",
        "outputId": "663f6772-a438-4606-dc34-e47065a7ac3d"
      },
      "execution_count": 6,
      "outputs": [
        {
          "output_type": "execute_result",
          "data": {
            "text/plain": [
              "26052"
            ]
          },
          "metadata": {},
          "execution_count": 6
        }
      ]
    },
    {
      "cell_type": "markdown",
      "source": [
        "O número de linhas da variável `City` com India incluso é 26052, que coincide com a dimensão do dataframe. Ou seja, em todas as linhas aparecem India. Para remover essa informação:"
      ],
      "metadata": {
        "id": "0G9KlSo6JdvV"
      }
    },
    {
      "cell_type": "code",
      "source": [
        "data['City'] = data['City'].apply(lambda x: x.split(',')[0]) # uso da função lambda para separar a string e selecionar apenas o nome da cidade."
      ],
      "metadata": {
        "id": "yuVhskrYJaGx"
      },
      "execution_count": 7,
      "outputs": []
    },
    {
      "cell_type": "code",
      "source": [
        "len(data.loc[data['City'].str.contains('India') == True])"
      ],
      "metadata": {
        "colab": {
          "base_uri": "https://localhost:8080/"
        },
        "id": "oYNJgWqHKEd9",
        "outputId": "f2a7ff6a-14b4-460d-bd24-6a55da25431d"
      },
      "execution_count": 8,
      "outputs": [
        {
          "output_type": "execute_result",
          "data": {
            "text/plain": [
              "0"
            ]
          },
          "metadata": {},
          "execution_count": 8
        }
      ]
    },
    {
      "cell_type": "markdown",
      "source": [
        "Não há mais a informação do pais na variável `City`."
      ],
      "metadata": {
        "id": "h6GAsjbsKslt"
      }
    },
    {
      "cell_type": "markdown",
      "source": [
        "## Coluna `Date`"
      ],
      "metadata": {
        "id": "fMC69tUCK4A-"
      }
    },
    {
      "cell_type": "markdown",
      "source": [
        "Os dados da coluna podem ser convertidos para datetime:"
      ],
      "metadata": {
        "id": "fzap4jxzMbTw"
      }
    },
    {
      "cell_type": "code",
      "source": [
        "data.head()"
      ],
      "metadata": {
        "colab": {
          "base_uri": "https://localhost:8080/",
          "height": 206
        },
        "id": "YCDjnYMLK5wR",
        "outputId": "38f480f4-1231-4224-c229-0e20adc95d30"
      },
      "execution_count": 9,
      "outputs": [
        {
          "output_type": "execute_result",
          "data": {
            "text/plain": [
              "             City       Date  Card Type Exp Type Gender  Amount\n",
              "0           Delhi  29-Oct-14       Gold    Bills      F   82475\n",
              "1  Greater Mumbai  22-Aug-14   Platinum    Bills      F   32555\n",
              "2       Bengaluru  27-Aug-14     Silver    Bills      F  101738\n",
              "3  Greater Mumbai  12-Apr-14  Signature    Bills      F  123424\n",
              "4       Bengaluru   5-May-15       Gold    Bills      F  171574"
            ],
            "text/html": [
              "\n",
              "  <div id=\"df-bd255e64-6faa-4ea9-af99-782d4df81882\">\n",
              "    <div class=\"colab-df-container\">\n",
              "      <div>\n",
              "<style scoped>\n",
              "    .dataframe tbody tr th:only-of-type {\n",
              "        vertical-align: middle;\n",
              "    }\n",
              "\n",
              "    .dataframe tbody tr th {\n",
              "        vertical-align: top;\n",
              "    }\n",
              "\n",
              "    .dataframe thead th {\n",
              "        text-align: right;\n",
              "    }\n",
              "</style>\n",
              "<table border=\"1\" class=\"dataframe\">\n",
              "  <thead>\n",
              "    <tr style=\"text-align: right;\">\n",
              "      <th></th>\n",
              "      <th>City</th>\n",
              "      <th>Date</th>\n",
              "      <th>Card Type</th>\n",
              "      <th>Exp Type</th>\n",
              "      <th>Gender</th>\n",
              "      <th>Amount</th>\n",
              "    </tr>\n",
              "  </thead>\n",
              "  <tbody>\n",
              "    <tr>\n",
              "      <th>0</th>\n",
              "      <td>Delhi</td>\n",
              "      <td>29-Oct-14</td>\n",
              "      <td>Gold</td>\n",
              "      <td>Bills</td>\n",
              "      <td>F</td>\n",
              "      <td>82475</td>\n",
              "    </tr>\n",
              "    <tr>\n",
              "      <th>1</th>\n",
              "      <td>Greater Mumbai</td>\n",
              "      <td>22-Aug-14</td>\n",
              "      <td>Platinum</td>\n",
              "      <td>Bills</td>\n",
              "      <td>F</td>\n",
              "      <td>32555</td>\n",
              "    </tr>\n",
              "    <tr>\n",
              "      <th>2</th>\n",
              "      <td>Bengaluru</td>\n",
              "      <td>27-Aug-14</td>\n",
              "      <td>Silver</td>\n",
              "      <td>Bills</td>\n",
              "      <td>F</td>\n",
              "      <td>101738</td>\n",
              "    </tr>\n",
              "    <tr>\n",
              "      <th>3</th>\n",
              "      <td>Greater Mumbai</td>\n",
              "      <td>12-Apr-14</td>\n",
              "      <td>Signature</td>\n",
              "      <td>Bills</td>\n",
              "      <td>F</td>\n",
              "      <td>123424</td>\n",
              "    </tr>\n",
              "    <tr>\n",
              "      <th>4</th>\n",
              "      <td>Bengaluru</td>\n",
              "      <td>5-May-15</td>\n",
              "      <td>Gold</td>\n",
              "      <td>Bills</td>\n",
              "      <td>F</td>\n",
              "      <td>171574</td>\n",
              "    </tr>\n",
              "  </tbody>\n",
              "</table>\n",
              "</div>\n",
              "      <button class=\"colab-df-convert\" onclick=\"convertToInteractive('df-bd255e64-6faa-4ea9-af99-782d4df81882')\"\n",
              "              title=\"Convert this dataframe to an interactive table.\"\n",
              "              style=\"display:none;\">\n",
              "        \n",
              "  <svg xmlns=\"http://www.w3.org/2000/svg\" height=\"24px\"viewBox=\"0 0 24 24\"\n",
              "       width=\"24px\">\n",
              "    <path d=\"M0 0h24v24H0V0z\" fill=\"none\"/>\n",
              "    <path d=\"M18.56 5.44l.94 2.06.94-2.06 2.06-.94-2.06-.94-.94-2.06-.94 2.06-2.06.94zm-11 1L8.5 8.5l.94-2.06 2.06-.94-2.06-.94L8.5 2.5l-.94 2.06-2.06.94zm10 10l.94 2.06.94-2.06 2.06-.94-2.06-.94-.94-2.06-.94 2.06-2.06.94z\"/><path d=\"M17.41 7.96l-1.37-1.37c-.4-.4-.92-.59-1.43-.59-.52 0-1.04.2-1.43.59L10.3 9.45l-7.72 7.72c-.78.78-.78 2.05 0 2.83L4 21.41c.39.39.9.59 1.41.59.51 0 1.02-.2 1.41-.59l7.78-7.78 2.81-2.81c.8-.78.8-2.07 0-2.86zM5.41 20L4 18.59l7.72-7.72 1.47 1.35L5.41 20z\"/>\n",
              "  </svg>\n",
              "      </button>\n",
              "      \n",
              "  <style>\n",
              "    .colab-df-container {\n",
              "      display:flex;\n",
              "      flex-wrap:wrap;\n",
              "      gap: 12px;\n",
              "    }\n",
              "\n",
              "    .colab-df-convert {\n",
              "      background-color: #E8F0FE;\n",
              "      border: none;\n",
              "      border-radius: 50%;\n",
              "      cursor: pointer;\n",
              "      display: none;\n",
              "      fill: #1967D2;\n",
              "      height: 32px;\n",
              "      padding: 0 0 0 0;\n",
              "      width: 32px;\n",
              "    }\n",
              "\n",
              "    .colab-df-convert:hover {\n",
              "      background-color: #E2EBFA;\n",
              "      box-shadow: 0px 1px 2px rgba(60, 64, 67, 0.3), 0px 1px 3px 1px rgba(60, 64, 67, 0.15);\n",
              "      fill: #174EA6;\n",
              "    }\n",
              "\n",
              "    [theme=dark] .colab-df-convert {\n",
              "      background-color: #3B4455;\n",
              "      fill: #D2E3FC;\n",
              "    }\n",
              "\n",
              "    [theme=dark] .colab-df-convert:hover {\n",
              "      background-color: #434B5C;\n",
              "      box-shadow: 0px 1px 3px 1px rgba(0, 0, 0, 0.15);\n",
              "      filter: drop-shadow(0px 1px 2px rgba(0, 0, 0, 0.3));\n",
              "      fill: #FFFFFF;\n",
              "    }\n",
              "  </style>\n",
              "\n",
              "      <script>\n",
              "        const buttonEl =\n",
              "          document.querySelector('#df-bd255e64-6faa-4ea9-af99-782d4df81882 button.colab-df-convert');\n",
              "        buttonEl.style.display =\n",
              "          google.colab.kernel.accessAllowed ? 'block' : 'none';\n",
              "\n",
              "        async function convertToInteractive(key) {\n",
              "          const element = document.querySelector('#df-bd255e64-6faa-4ea9-af99-782d4df81882');\n",
              "          const dataTable =\n",
              "            await google.colab.kernel.invokeFunction('convertToInteractive',\n",
              "                                                     [key], {});\n",
              "          if (!dataTable) return;\n",
              "\n",
              "          const docLinkHtml = 'Like what you see? Visit the ' +\n",
              "            '<a target=\"_blank\" href=https://colab.research.google.com/notebooks/data_table.ipynb>data table notebook</a>'\n",
              "            + ' to learn more about interactive tables.';\n",
              "          element.innerHTML = '';\n",
              "          dataTable['output_type'] = 'display_data';\n",
              "          await google.colab.output.renderOutput(dataTable, element);\n",
              "          const docLink = document.createElement('div');\n",
              "          docLink.innerHTML = docLinkHtml;\n",
              "          element.appendChild(docLink);\n",
              "        }\n",
              "      </script>\n",
              "    </div>\n",
              "  </div>\n",
              "  "
            ]
          },
          "metadata": {},
          "execution_count": 9
        }
      ]
    },
    {
      "cell_type": "code",
      "source": [
        "data['Date'] = pd.to_datetime(data['Date'])"
      ],
      "metadata": {
        "id": "2LWshMzWMay_"
      },
      "execution_count": 10,
      "outputs": []
    },
    {
      "cell_type": "markdown",
      "source": [
        "## Renomeando as colunas"
      ],
      "metadata": {
        "id": "WMhGy9R6NhPZ"
      }
    },
    {
      "cell_type": "code",
      "source": [
        "data.columns = ['city', 'date', 'card_type', 'exp_type', 'gender', 'amount']"
      ],
      "metadata": {
        "id": "JbiNz1ZyNkMa"
      },
      "execution_count": 11,
      "outputs": []
    },
    {
      "cell_type": "markdown",
      "source": [
        "## Criação de colunas derivadas da coluna `date`"
      ],
      "metadata": {
        "id": "tgK_cUpvQm5E"
      }
    },
    {
      "cell_type": "markdown",
      "source": [
        "* Criação da coluna `age`:"
      ],
      "metadata": {
        "id": "oaqc-Cv_P6xB"
      }
    },
    {
      "cell_type": "code",
      "source": [
        "data['age'] = data['date'].dt.year"
      ],
      "metadata": {
        "id": "RjQZDzSBP0nM"
      },
      "execution_count": 12,
      "outputs": []
    },
    {
      "cell_type": "markdown",
      "source": [
        "* Criação da coluna `month`:"
      ],
      "metadata": {
        "id": "dEVmuDfNQDVJ"
      }
    },
    {
      "cell_type": "code",
      "source": [
        "data['month'] = data['date'].dt.month"
      ],
      "metadata": {
        "id": "fsyYUTxKQMId"
      },
      "execution_count": 13,
      "outputs": []
    },
    {
      "cell_type": "markdown",
      "source": [
        "## Rearranjando as colunas"
      ],
      "metadata": {
        "id": "MDQ3oJLNTDSf"
      }
    },
    {
      "cell_type": "code",
      "source": [
        "data.columns"
      ],
      "metadata": {
        "colab": {
          "base_uri": "https://localhost:8080/"
        },
        "id": "_QW8GJwyTJAa",
        "outputId": "89b43e76-6339-4a23-f4c9-7f1ae8e6f154"
      },
      "execution_count": 14,
      "outputs": [
        {
          "output_type": "execute_result",
          "data": {
            "text/plain": [
              "Index(['city', 'date', 'card_type', 'exp_type', 'gender', 'amount', 'age',\n",
              "       'month'],\n",
              "      dtype='object')"
            ]
          },
          "metadata": {},
          "execution_count": 14
        }
      ]
    },
    {
      "cell_type": "code",
      "source": [
        "data = data[['city', 'date', 'month', 'age','card_type', 'exp_type', 'gender', 'amount']]\n",
        "data.head()"
      ],
      "metadata": {
        "colab": {
          "base_uri": "https://localhost:8080/",
          "height": 206
        },
        "id": "wyP5ClU7TB_o",
        "outputId": "e49d4afb-7354-421f-fa1b-d8465b52e83b"
      },
      "execution_count": 15,
      "outputs": [
        {
          "output_type": "execute_result",
          "data": {
            "text/plain": [
              "             city       date  month   age  card_type exp_type gender  amount\n",
              "0           Delhi 2014-10-29     10  2014       Gold    Bills      F   82475\n",
              "1  Greater Mumbai 2014-08-22      8  2014   Platinum    Bills      F   32555\n",
              "2       Bengaluru 2014-08-27      8  2014     Silver    Bills      F  101738\n",
              "3  Greater Mumbai 2014-04-12      4  2014  Signature    Bills      F  123424\n",
              "4       Bengaluru 2015-05-05      5  2015       Gold    Bills      F  171574"
            ],
            "text/html": [
              "\n",
              "  <div id=\"df-53ba8d42-f8b5-440c-af1e-c79a7fee6873\">\n",
              "    <div class=\"colab-df-container\">\n",
              "      <div>\n",
              "<style scoped>\n",
              "    .dataframe tbody tr th:only-of-type {\n",
              "        vertical-align: middle;\n",
              "    }\n",
              "\n",
              "    .dataframe tbody tr th {\n",
              "        vertical-align: top;\n",
              "    }\n",
              "\n",
              "    .dataframe thead th {\n",
              "        text-align: right;\n",
              "    }\n",
              "</style>\n",
              "<table border=\"1\" class=\"dataframe\">\n",
              "  <thead>\n",
              "    <tr style=\"text-align: right;\">\n",
              "      <th></th>\n",
              "      <th>city</th>\n",
              "      <th>date</th>\n",
              "      <th>month</th>\n",
              "      <th>age</th>\n",
              "      <th>card_type</th>\n",
              "      <th>exp_type</th>\n",
              "      <th>gender</th>\n",
              "      <th>amount</th>\n",
              "    </tr>\n",
              "  </thead>\n",
              "  <tbody>\n",
              "    <tr>\n",
              "      <th>0</th>\n",
              "      <td>Delhi</td>\n",
              "      <td>2014-10-29</td>\n",
              "      <td>10</td>\n",
              "      <td>2014</td>\n",
              "      <td>Gold</td>\n",
              "      <td>Bills</td>\n",
              "      <td>F</td>\n",
              "      <td>82475</td>\n",
              "    </tr>\n",
              "    <tr>\n",
              "      <th>1</th>\n",
              "      <td>Greater Mumbai</td>\n",
              "      <td>2014-08-22</td>\n",
              "      <td>8</td>\n",
              "      <td>2014</td>\n",
              "      <td>Platinum</td>\n",
              "      <td>Bills</td>\n",
              "      <td>F</td>\n",
              "      <td>32555</td>\n",
              "    </tr>\n",
              "    <tr>\n",
              "      <th>2</th>\n",
              "      <td>Bengaluru</td>\n",
              "      <td>2014-08-27</td>\n",
              "      <td>8</td>\n",
              "      <td>2014</td>\n",
              "      <td>Silver</td>\n",
              "      <td>Bills</td>\n",
              "      <td>F</td>\n",
              "      <td>101738</td>\n",
              "    </tr>\n",
              "    <tr>\n",
              "      <th>3</th>\n",
              "      <td>Greater Mumbai</td>\n",
              "      <td>2014-04-12</td>\n",
              "      <td>4</td>\n",
              "      <td>2014</td>\n",
              "      <td>Signature</td>\n",
              "      <td>Bills</td>\n",
              "      <td>F</td>\n",
              "      <td>123424</td>\n",
              "    </tr>\n",
              "    <tr>\n",
              "      <th>4</th>\n",
              "      <td>Bengaluru</td>\n",
              "      <td>2015-05-05</td>\n",
              "      <td>5</td>\n",
              "      <td>2015</td>\n",
              "      <td>Gold</td>\n",
              "      <td>Bills</td>\n",
              "      <td>F</td>\n",
              "      <td>171574</td>\n",
              "    </tr>\n",
              "  </tbody>\n",
              "</table>\n",
              "</div>\n",
              "      <button class=\"colab-df-convert\" onclick=\"convertToInteractive('df-53ba8d42-f8b5-440c-af1e-c79a7fee6873')\"\n",
              "              title=\"Convert this dataframe to an interactive table.\"\n",
              "              style=\"display:none;\">\n",
              "        \n",
              "  <svg xmlns=\"http://www.w3.org/2000/svg\" height=\"24px\"viewBox=\"0 0 24 24\"\n",
              "       width=\"24px\">\n",
              "    <path d=\"M0 0h24v24H0V0z\" fill=\"none\"/>\n",
              "    <path d=\"M18.56 5.44l.94 2.06.94-2.06 2.06-.94-2.06-.94-.94-2.06-.94 2.06-2.06.94zm-11 1L8.5 8.5l.94-2.06 2.06-.94-2.06-.94L8.5 2.5l-.94 2.06-2.06.94zm10 10l.94 2.06.94-2.06 2.06-.94-2.06-.94-.94-2.06-.94 2.06-2.06.94z\"/><path d=\"M17.41 7.96l-1.37-1.37c-.4-.4-.92-.59-1.43-.59-.52 0-1.04.2-1.43.59L10.3 9.45l-7.72 7.72c-.78.78-.78 2.05 0 2.83L4 21.41c.39.39.9.59 1.41.59.51 0 1.02-.2 1.41-.59l7.78-7.78 2.81-2.81c.8-.78.8-2.07 0-2.86zM5.41 20L4 18.59l7.72-7.72 1.47 1.35L5.41 20z\"/>\n",
              "  </svg>\n",
              "      </button>\n",
              "      \n",
              "  <style>\n",
              "    .colab-df-container {\n",
              "      display:flex;\n",
              "      flex-wrap:wrap;\n",
              "      gap: 12px;\n",
              "    }\n",
              "\n",
              "    .colab-df-convert {\n",
              "      background-color: #E8F0FE;\n",
              "      border: none;\n",
              "      border-radius: 50%;\n",
              "      cursor: pointer;\n",
              "      display: none;\n",
              "      fill: #1967D2;\n",
              "      height: 32px;\n",
              "      padding: 0 0 0 0;\n",
              "      width: 32px;\n",
              "    }\n",
              "\n",
              "    .colab-df-convert:hover {\n",
              "      background-color: #E2EBFA;\n",
              "      box-shadow: 0px 1px 2px rgba(60, 64, 67, 0.3), 0px 1px 3px 1px rgba(60, 64, 67, 0.15);\n",
              "      fill: #174EA6;\n",
              "    }\n",
              "\n",
              "    [theme=dark] .colab-df-convert {\n",
              "      background-color: #3B4455;\n",
              "      fill: #D2E3FC;\n",
              "    }\n",
              "\n",
              "    [theme=dark] .colab-df-convert:hover {\n",
              "      background-color: #434B5C;\n",
              "      box-shadow: 0px 1px 3px 1px rgba(0, 0, 0, 0.15);\n",
              "      filter: drop-shadow(0px 1px 2px rgba(0, 0, 0, 0.3));\n",
              "      fill: #FFFFFF;\n",
              "    }\n",
              "  </style>\n",
              "\n",
              "      <script>\n",
              "        const buttonEl =\n",
              "          document.querySelector('#df-53ba8d42-f8b5-440c-af1e-c79a7fee6873 button.colab-df-convert');\n",
              "        buttonEl.style.display =\n",
              "          google.colab.kernel.accessAllowed ? 'block' : 'none';\n",
              "\n",
              "        async function convertToInteractive(key) {\n",
              "          const element = document.querySelector('#df-53ba8d42-f8b5-440c-af1e-c79a7fee6873');\n",
              "          const dataTable =\n",
              "            await google.colab.kernel.invokeFunction('convertToInteractive',\n",
              "                                                     [key], {});\n",
              "          if (!dataTable) return;\n",
              "\n",
              "          const docLinkHtml = 'Like what you see? Visit the ' +\n",
              "            '<a target=\"_blank\" href=https://colab.research.google.com/notebooks/data_table.ipynb>data table notebook</a>'\n",
              "            + ' to learn more about interactive tables.';\n",
              "          element.innerHTML = '';\n",
              "          dataTable['output_type'] = 'display_data';\n",
              "          await google.colab.output.renderOutput(dataTable, element);\n",
              "          const docLink = document.createElement('div');\n",
              "          docLink.innerHTML = docLinkHtml;\n",
              "          element.appendChild(docLink);\n",
              "        }\n",
              "      </script>\n",
              "    </div>\n",
              "  </div>\n",
              "  "
            ]
          },
          "metadata": {},
          "execution_count": 15
        }
      ]
    },
    {
      "cell_type": "markdown",
      "source": [
        "## Análise exploratória"
      ],
      "metadata": {
        "id": "cECoIn8eIkl5"
      }
    },
    {
      "cell_type": "markdown",
      "source": [
        "## Coluna `city`"
      ],
      "metadata": {
        "id": "-UARZj9GThC3"
      }
    },
    {
      "cell_type": "markdown",
      "source": [
        "As dez cidades com mais transações no *dataset*:"
      ],
      "metadata": {
        "id": "Op74mRQQUvp6"
      }
    },
    {
      "cell_type": "code",
      "source": [
        "citys = data.value_counts('city')[:10]"
      ],
      "metadata": {
        "id": "Zx67zU4LIpDd"
      },
      "execution_count": 16,
      "outputs": []
    },
    {
      "cell_type": "code",
      "source": [
        "def bar_label(bars, x= 0, y= 0, font= 0):\n",
        "  for bar in bars:\n",
        "    plt.text(bar.get_x() + x, bar.get_height() + y, bar.get_height(), fontsize= font)"
      ],
      "metadata": {
        "id": "Rpr4tEBuVW6n"
      },
      "execution_count": 31,
      "outputs": []
    },
    {
      "cell_type": "code",
      "source": [
        "plt.figure(figsize= (10, 8))\n",
        "bars = plt.bar(citys.keys(), citys.values, color= ['r', 'y', 'g', 'b'])\n",
        "bar_label(bars, 0.1, 35)\n",
        "plt.title('TOP 10 cidades com mais transações em cartão de crédito', fontsize= 14)\n",
        "plt.xticks(rotation= 45, ha= 'right')\n",
        "plt.xlabel('Cidades')\n",
        "plt.ylim([0, 4000])\n",
        "plt.show()"
      ],
      "metadata": {
        "colab": {
          "base_uri": "https://localhost:8080/",
          "height": 580
        },
        "id": "l4XFA8JRUSH_",
        "outputId": "a3c42fd6-cf22-4227-c5fe-50aa7c763d10"
      },
      "execution_count": 18,
      "outputs": [
        {
          "output_type": "display_data",
          "data": {
            "text/plain": [
              "<Figure size 720x576 with 1 Axes>"
            ],
            "image/png": "[encoded data removed]"
          },
          "metadata": {}
        }
      ]
    },
    {
      "cell_type": "markdown",
      "source": [
        "## Coluna `date` e derivadas"
      ],
      "metadata": {
        "id": "rt8_q4b4YqXW"
      }
    },
    {
      "cell_type": "code",
      "source": [
        "ages = data['age'].value_counts()"
      ],
      "metadata": {
        "id": "Gdb-HCtWYqGD"
      },
      "execution_count": 19,
      "outputs": []
    },
    {
      "cell_type": "code",
      "source": [
        "plt.figure(figsize= (10, 8))\n",
        "bars = plt.bar(ages.keys(), ages.values, color= ['y', 'r', 'g'])\n",
        "bar_label(bars, 0.3, 300, 14)\n",
        "plt.title('Quantidade de transações por ano', fontsize= 15)\n",
        "plt.ylim([0, 17500])\n",
        "plt.xlabel('Anos')\n",
        "plt.show()"
      ],
      "metadata": {
        "colab": {
          "base_uri": "https://localhost:8080/",
          "height": 520
        },
        "id": "Fwm54HVBYzPk",
        "outputId": "2e1a96be-3b79-4a2f-bca3-059bad5d1340"
      },
      "execution_count": 38,
      "outputs": [
        {
          "output_type": "display_data",
          "data": {
            "text/plain": [
              "<Figure size 720x576 with 1 Axes>"
            ],
            "image/png": "[encoded data removed]"
          },
          "metadata": {}
        }
      ]
    },
    {
      "cell_type": "code",
      "source": [
        "plt.figure(figsize= (10, 8))\n",
        "plt.pie(ages, autopct= '%.2f%%')\n",
        "my_circle = plt.Circle((0, 0), 0.75, color='white')\n",
        "plt.legend(['2013', '2014', '2015'], bbox_to_anchor= (0.9, 0.9))\n",
        "p = plt.gcf()\n",
        "p.gca().add_artist(my_circle)\n",
        "plt.show()"
      ],
      "metadata": {
        "colab": {
          "base_uri": "https://localhost:8080/",
          "height": 466
        },
        "id": "AG0oAuvabces",
        "outputId": "8208d7f1-c8ec-42a6-d930-928cc43df43d"
      },
      "execution_count": 48,
      "outputs": [
        {
          "output_type": "display_data",
          "data": {
            "text/plain": [
              "<Figure size 720x576 with 1 Axes>"
            ],
            "image/png": "[encoded data removed]"
          },
          "metadata": {}
        }
      ]
    },
    {
      "cell_type": "code",
      "source": [],
      "metadata": {
        "id": "crQU6BpxeWGN"
      },
      "execution_count": null,
      "outputs": []
    }
  ]
}